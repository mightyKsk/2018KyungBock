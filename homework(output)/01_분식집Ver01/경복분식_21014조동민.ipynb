{
 "cells": [
  {
   "cell_type": "code",
   "execution_count": 3,
   "metadata": {},
   "outputs": [
    {
     "name": "stdout",
     "output_type": "stream",
     "text": [
      "경복분식에 오신 것을 환영합니다 :D 메뉴판을 보시고 주문해주세요!\n",
      "\n",
      "떡볶이 3000\n",
      "순대   2500\n",
      "어묵   1000\n",
      "슬러시 1000\n",
      "\n",
      "무엇을 주문하시겠어요? 떡볶이\n",
      "몇 개나 주문하시겠어요? 7\n",
      "더 주문하시겠어요? (o/x) o\n",
      "\n",
      "무엇을 주문하시겠어요? 떡볶이 \n",
      "몇 개나 주문하시겠어요? 7\n",
      "그런 메뉴는 제공하지 않고 있습니다 :(\n",
      "더 주문하시겠어요? (o/x) o\n",
      "\n",
      "무엇을 주문하시겠어요? 떡볶이\n",
      "몇 개나 주문하시겠어요? 3\n",
      "더 주문하시겠어요? (o/x) x\n",
      "주문하신 금액은 총 30000원입니다. 맛있는 식사 되세요 :D\n"
     ]
    }
   ],
   "source": [
    "print('경복분식에 오신 것을 환영합니다 :D 메뉴판을 보시고 주문해주세요!')\n",
    "print('')\n",
    "print('떡볶이 3000')\n",
    "print('순대   2500')\n",
    "print('어묵   1000')\n",
    "print('슬러시 1000')\n",
    "more='o'\n",
    "price=0\n",
    "while more=='o' :\n",
    "    print('')\n",
    "    menu=input('무엇을 주문하시겠어요? ')\n",
    "    num=int(input('몇 개나 주문하시겠어요? '))\n",
    "    if(menu=='떡볶이') :\n",
    "        price=3000*num+price\n",
    "    elif(menu=='순대') :\n",
    "        price=2500*num+price\n",
    "    elif(menu=='어묵') :\n",
    "        price=1000*num+price\n",
    "    elif(menu=='슬러시') :\n",
    "        price=1000*num+price\n",
    "    else :\n",
    "        print('그런 메뉴는 제공하지 않고 있습니다 :(')\n",
    "    more=input('더 주문하시겠어요? (o/x) ')\n",
    "print('주문하신 금액은 총 %d원입니다. 맛있는 식사 되세요 :D' %price)"
   ]
  }
 ],
 "metadata": {
  "kernelspec": {
   "display_name": "Python 3",
   "language": "python",
   "name": "python3"
  }
 },
 "nbformat": 4,
 "nbformat_minor": 2
}
