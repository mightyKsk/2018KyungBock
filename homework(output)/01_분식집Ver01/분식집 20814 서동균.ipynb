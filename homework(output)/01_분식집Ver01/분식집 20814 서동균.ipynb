{
 "cells": [
  {
   "cell_type": "code",
   "execution_count": null,
   "metadata": {},
   "outputs": [
    {
     "name": "stdout",
     "output_type": "stream",
     "text": [
      "-메뉴판-\n",
      "떡볶이 3000원   라볶이 3500원   라면 2500원\n",
      "어묵 1500원   순대 4000원   튀김세트 3000원\n"
     ]
    }
   ],
   "source": [
    "print('-메뉴판-\\n떡볶이 3000원   라볶이 3500원   라면 2500원\\n어묵 1500원   순대 4000원   튀김세트 3000원')\n",
    "total=0\n",
    "cont='네'\n",
    "while cont=='네' :\n",
    "    w=input('무엇을 주문하시겠습니까?')\n",
    "    c=int(input('몇 인분 주문하시겠습니까?'))\n",
    "    if w=='떡볶이' :\n",
    "        a=3000\n",
    "    elif w=='라볶이' :\n",
    "        a=3500\n",
    "    elif w=='라면' :\n",
    "        a=2500\n",
    "    elif w=='어묵' :\n",
    "        a=1500\n",
    "    elif w=='순대' :\n",
    "        a=4000\n",
    "    elif w=='튀김세트' :\n",
    "        a=3000\n",
    "    else :\n",
    "        print ('잘못 입력하셨습니다.')\n",
    "        a=0\n",
    "    cont=input('추가로 더 주문 하시겠습니까? : 네/아니오')\n",
    "    price=a*c\n",
    "    total=total+price    \n",
    "print('주문하신 총 금액은 %d원 입니다'%total)"
   ]
  }
 ],
 "metadata": {
  "kernelspec": {
   "display_name": "Python 3",
   "language": "python",
   "name": "python3"
  },
  "language_info": {
   "codemirror_mode": {
    "name": "ipython",
    "version": 3
   },
   "file_extension": ".py",
   "mimetype": "text/x-python",
   "name": "python",
   "nbconvert_exporter": "python",
   "pygments_lexer": "ipython3",
   "version": "3.6.5"
  }
 },
 "nbformat": 4,
 "nbformat_minor": 2
}
