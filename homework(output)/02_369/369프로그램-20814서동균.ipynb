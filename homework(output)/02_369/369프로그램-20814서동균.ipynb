{
 "cells": [
  {
   "cell_type": "code",
   "execution_count": 10,
   "metadata": {},
   "outputs": [
    {
     "name": "stdout",
     "output_type": "stream",
     "text": [
      "주의! 이 프로그램은 369 게임이 아닌\n",
      "369게임이라는 탈을 쓴 그냥 컴퓨터 혼자서 짝짝거리는 프로그램입니다.\n",
      "3의 배수이면 짝, 6의 배수이면 짝짝, 9의 배수이면 짝짝짝, 18의 배수이면 짝짝짝짝이 출력됩니다\n",
      "마지막 숫자를 입력해 주세요:0\n",
      "종료\n"
     ]
    }
   ],
   "source": [
    "print('주의! 이 프로그램은 369 게임이 아닌\\n369게임이라는 탈을 쓴 그냥 컴퓨터 혼자서 짝짝거리는 프로그램입니다.')\n",
    "print('3의 배수이면 짝, 6의 배수이면 짝짝, 9의 배수이면 짝짝짝, 18의 배수이면 짝짝짝짝이 출력됩니다')\n",
    "lastnum=int(input('마지막 숫자를 입력해 주세요:'))\n",
    "if(lastnum==0):\n",
    "    print('종료')\n",
    "else:\n",
    "    lastnum=lastnum+1\n",
    "    for num in range(1, lastnum):\n",
    "        if (num%18==0):\n",
    "            print('짝짝짝짝')\n",
    "        elif(num%9==0):\n",
    "            print('짝짝짝')\n",
    "        elif(num%6==0):\n",
    "            print('짝짝')\n",
    "        elif(num%3==0):\n",
    "            print('짝')\n",
    "        else:\n",
    "            print(num)"
   ]
  },
  {
   "cell_type": "code",
   "execution_count": null,
   "metadata": {},
   "outputs": [],
   "source": []
  }
 ],
 "metadata": {
  "kernelspec": {
   "display_name": "Python 3",
   "language": "python",
   "name": "python3"
  },
  "language_info": {
   "codemirror_mode": {
    "name": "ipython",
    "version": 3
   },
   "file_extension": ".py",
   "mimetype": "text/x-python",
   "name": "python",
   "nbconvert_exporter": "python",
   "pygments_lexer": "ipython3",
   "version": "3.6.5"
  }
 },
 "nbformat": 4,
 "nbformat_minor": 2
}
