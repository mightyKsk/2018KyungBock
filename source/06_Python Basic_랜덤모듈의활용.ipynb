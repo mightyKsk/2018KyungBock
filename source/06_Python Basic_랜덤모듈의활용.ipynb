{
 "cells": [
  {
   "cell_type": "markdown",
   "metadata": {},
   "source": [
    "# 1. random 모듈 \n",
    "\n",
    "## 1) random 모듈을 임포트한다.\n",
    "## 2) random 모듈이 가진 함수들을 활용해 본다"
   ]
  },
  {
   "cell_type": "code",
   "execution_count": null,
   "metadata": {},
   "outputs": [],
   "source": [
    "import random #랜덤 모듈 임포트\n",
    "num=random.random() # 0~1사이의 실수형 임의 값 생성\n",
    "print(num)"
   ]
  },
  {
   "cell_type": "markdown",
   "metadata": {},
   "source": [
    "# 2. random()을 이용하여 0~9사이의 임의의 수를 생성하여 맞추기"
   ]
  },
  {
   "cell_type": "code",
   "execution_count": null,
   "metadata": {},
   "outputs": [],
   "source": [
    "computer_num=int(random.random()*10)\n",
    "#print(computer_num)\n",
    "while True :\n",
    "    user_num=int(input(\"숫자입력:\"))\n",
    "    if (computer_num == user_num) :\n",
    "        print(\"정답! 숫자는 \", user_num)\n",
    "        break\n",
    "        "
   ]
  },
  {
   "cell_type": "markdown",
   "metadata": {},
   "source": [
    "# 3. 특정 범위에서 숫자를 랜덤으로 발생시키기\n",
    "## 1) randrange(stop) / randrange(start, stop, [step])"
   ]
  },
  {
   "cell_type": "code",
   "execution_count": null,
   "metadata": {},
   "outputs": [],
   "source": [
    "import random\n",
    "for i in range(1,101) : #100회 반복\n",
    "    print(random.randrange(10),end=\" \") #0~9 사이의 숫자를 임의로 발생시키기\n",
    "    if (i%10==0) : # 10회 출력 후 줄바꿈\n",
    "        print()\n",
    "    "
   ]
  },
  {
   "cell_type": "code",
   "execution_count": null,
   "metadata": {},
   "outputs": [],
   "source": [
    "import random\n",
    "for i in range(1, 101) :\n",
    "    print(random.randrange(11,16),end=\" \") #11~15사이의 숫자 임의로 발생시키기\n",
    "    if(i%10==0) :\n",
    "        print()"
   ]
  },
  {
   "cell_type": "code",
   "execution_count": null,
   "metadata": {},
   "outputs": [],
   "source": [
    "import random\n",
    "for i in range(1, 101) :\n",
    "    print(random.randrange(10,21,2),end=\" \") #10~20사이의 숫자 중 짝수만 임의로 발생시키기\n",
    "    if(i%10==0) :\n",
    "        print()"
   ]
  },
  {
   "cell_type": "markdown",
   "metadata": {},
   "source": [
    "### [(샘플)동민이의 코드] :10~20사이의 숫자 중 짝수만 임의로 발생, 10회 출력 후 줄바꾸기 적용"
   ]
  },
  {
   "cell_type": "code",
   "execution_count": null,
   "metadata": {},
   "outputs": [],
   "source": [
    "import random\n",
    "count=1\n",
    "while (count<=100) :\n",
    "    #10~20사이의 숫자 랜덤 발생\n",
    "    rndNum=random.randrange(10,21,2)\n",
    "    if(count%10==0) :\n",
    "        print(rndNum)\n",
    "    else :\n",
    "        print(rndNum,end=\" \")\n",
    "    count+=1"
   ]
  },
  {
   "cell_type": "markdown",
   "metadata": {},
   "source": [
    "## 2) randint(a,b) : a에서 b까지의 범위에서 임의의 정수 발생 "
   ]
  },
  {
   "cell_type": "code",
   "execution_count": null,
   "metadata": {},
   "outputs": [],
   "source": [
    "import random\n",
    "for i in range(1,101) :\n",
    "    print(random.randint(1,100),end=\" \") #1~100까지 숫자 중 임의의 숫자 발생\n",
    "    if(i%10==0):\n",
    "        print()\n",
    "    "
   ]
  },
  {
   "cell_type": "code",
   "execution_count": null,
   "metadata": {},
   "outputs": [],
   "source": [
    "import random\n",
    "for i in range(1,101) :\n",
    "    print(\"%3d\"%(random.randint(1,100)),end=\" \") #서식(10진수 3자리)에 맞춘 출력 \n",
    "    if(i%10==0) :\n",
    "        print()\n",
    "          "
   ]
  },
  {
   "cell_type": "code",
   "execution_count": null,
   "metadata": {},
   "outputs": [],
   "source": [
    "#10~20의 정수 중 짝수만 랜덤으로 100회 출력 : randint()사용\n",
    "import random \n",
    "cnt=0\n",
    "while(cnt<100) : \n",
    "    rnd=random.randint(10,20)\n",
    "    if (rnd%2==0) :\n",
    "        cnt=cnt+1\n",
    "        print(rnd, end=\" \")\n",
    "        if (cnt%10==0) :\n",
    "            print()"
   ]
  },
  {
   "cell_type": "markdown",
   "metadata": {},
   "source": [
    "## 3) random.randshffle(x) : 리스트 x의 내용을 무작위로 섞기 "
   ]
  },
  {
   "cell_type": "code",
   "execution_count": null,
   "metadata": {},
   "outputs": [],
   "source": [
    "myList=[]\n",
    "for i in range(1,11) : #1~10의 범위의 숫자를 차례대로 반복 \n",
    "    if i not in myList: # myList에 해당 값이 없으면\n",
    "        myList.append(i) # myList에 추가\n",
    "\n",
    "print(\"초기 리스트 출력 : \",myList)\n",
    "import random\n",
    "random.shuffle(myList) #myList를 섞는다\n",
    "print(\"무작위로 섞인 리스트 출력 :\",myList)\n",
    "myList.sort() #myList 오름차순 정렬하기\n",
    "print(\"오름차순 정리된 리스트 출력 : \",myList)\n",
    "myList.sort(reverse=True) #myList 내림차순 정렬하기\n",
    "print(\"내림차순 정리된 리스트 출력 : \",myList)\n",
    "print(\"리스트에서 랜덤으로 하나의 값 출력 : \", random.choice(myList)) #myList에서 랜덤으로 하나의 값 추출하기\n"
   ]
  },
  {
   "cell_type": "markdown",
   "metadata": {},
   "source": [
    "## 4) random.choice(seq) : 시퀀스자료형(seq)에서 무작위로 하나 추출하기"
   ]
  },
  {
   "cell_type": "code",
   "execution_count": null,
   "metadata": {},
   "outputs": [],
   "source": [
    "goodsay=[\"happy\",\"love\",\"sad\",\"hot\",\"angry\",\"fortunate\"]\n",
    "import random\n",
    "print(\"오늘의 기분 : \",random.choice(goodsay))"
   ]
  },
  {
   "cell_type": "markdown",
   "metadata": {},
   "source": [
    "# [문제] 숫자 맞추기 프로그램\n",
    "## 1~100사이의 숫자를 무작위로 발생시키고, 이 숫자를 사용자가 알아맞히는 프로그램\n",
    "## (단, 정답을 맞출 경우 사용자의 시도 횟수도 함께 출력한다)"
   ]
  },
  {
   "cell_type": "code",
   "execution_count": null,
   "metadata": {},
   "outputs": [],
   "source": [
    "import random #random모듈을 임포트 한다\n",
    "computer_num=random.randint(1,100)\n",
    "print(\"1~100사이의 숫자를 맞춰보세요\")\n",
    "#print(computer_num)\n",
    "count=0\n",
    "while True :\n",
    "    user_num=int(input(\"숫자 입력 : \"))\n",
    "    count+=1\n",
    "    if (computer_num==user_num):\n",
    "        print(\">>>정답!!! 축하합니다(시도횟수 : %d)\"%count)\n",
    "        break\n",
    "    else :\n",
    "        if(computer_num > user_num) :\n",
    "            print(\">>>더 큰 수를 입력해 보세요~\")\n",
    "        else : \n",
    "            print(\">>>더 작은 수를 입력해 보세요~\")"
   ]
  },
  {
   "cell_type": "markdown",
   "metadata": {},
   "source": [
    "# [문제] 운세를 알려주는 프로그램\n",
    "## 사용자가 질문으로 하면 운명의 운세를 알려준다"
   ]
  },
  {
   "cell_type": "code",
   "execution_count": null,
   "metadata": {},
   "outputs": [],
   "source": [
    "quote=[\"네, 확실합니다\", \"전망이 좋을 것 같은데요~\",\"믿으셔도 됩니다\",\"글쎄요, 아닌 것 같군요\",\"한 점의 의심도 없이 맞습니다!\",\"그럼요! 명백히 옳은 선택을 했습니다\",\"제 답변은 NO입니다.\",\"나중에 다시 물어보세요\"]\n",
    "name=input(\"이름 :\")\n",
    "content=input(\"무엇에 대해 알고 싶은가요?\")\n",
    "print(name,\"님\",\"\\\"\",content,\"\\\"에 대하여 질문을 주셨군요.\")\n",
    "print(\"운명의 주사위를 굴려볼게요\")\n",
    "import time #time.sleep(sec)함수를 쓰기 위해 임포트\n",
    "for i in range(3,0,-1) :\n",
    "    print(\"...\",i)\n",
    "    time.sleep(1) #1초씩 지연시간을 준다\n",
    "import random\n",
    "result=random.choice(quote)\n",
    "print(result)\n"
   ]
  }
 ],
 "metadata": {
  "kernelspec": {
   "display_name": "Python 3",
   "language": "python",
   "name": "python3"
  },
  "language_info": {
   "codemirror_mode": {
    "name": "ipython",
    "version": 3
   },
   "file_extension": ".py",
   "mimetype": "text/x-python",
   "name": "python",
   "nbconvert_exporter": "python",
   "pygments_lexer": "ipython3",
   "version": "3.6.5"
  }
 },
 "nbformat": 4,
 "nbformat_minor": 2
}
