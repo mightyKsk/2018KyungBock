{
 "cells": [
  {
   "cell_type": "markdown",
   "metadata": {},
   "source": [
    "# 1. 파일 읽기 \n",
    "## - 파일열기(open,모드지정 : \"r\") -> 데이터 읽기(read) -> 데이터 처리->파일 닫기(close)"
   ]
  },
  {
   "cell_type": "code",
   "execution_count": null,
   "metadata": {},
   "outputs": [],
   "source": [
    "f=open(\"phones.txt\",\"r\")\n",
    "data=f.read()\n",
    "print(data)\n",
    "f.close()\n"
   ]
  },
  {
   "cell_type": "markdown",
   "metadata": {},
   "source": [
    "## 1_2) 파일 읽기 : read()\n",
    "### read( )는 한꺼번에 모든 데이터를 읽어온다.\n",
    "### [참고]한글 처리 인코딩 오류 시 지정 :  encoding=\"UTF-8\" "
   ]
  },
  {
   "cell_type": "code",
   "execution_count": null,
   "metadata": {},
   "outputs": [],
   "source": [
    "f=open(\"phones.txt\",\"r\",encoding=\"UTF-8\")\n",
    "data=f.read()\n",
    "print(data)\n",
    "f.close()"
   ]
  },
  {
   "cell_type": "markdown",
   "metadata": {},
   "source": [
    "## 1_2) 파일을 한 줄씩 읽기 : readline()\n",
    "### readline()은 한 줄씩 데이터를 읽어온다.\n",
    "### [참고] seek() : 파일을 읽는 위치를 지정 ex) f.seek(0) : 파일의 처음부터 읽기\n",
    "### [참고] tell(): 파일 포인터의 현재 위치를 알려준다\n"
   ]
  },
  {
   "cell_type": "code",
   "execution_count": null,
   "metadata": {},
   "outputs": [],
   "source": [
    "f=open(\"test.txt\",\"r\",encoding=\"UTF-8\") #파일 열기\n",
    "print(\"read()의 결과 :\\n\",f.read())\n",
    "print(\"readline()의 결과 :\\n\",f.readline())\n",
    "f.seek(0) #파일의 읽는 위치를 지정하는 함수 : seek()\n",
    "print(\"readline()의 결과 :\\n\",f.readline())\n",
    "print(f.tell()) #파일 포인터의 현재 위치를 알려주는 함수 : tell()\n",
    "print(\"readline()의 결과 :\\n\",f.readline())\n",
    "f.close() # 파일 닫기"
   ]
  },
  {
   "cell_type": "markdown",
   "metadata": {},
   "source": [
    "## 1_3) 파일을 한 줄 단위로 모두 읽기 : readlines()\n",
    "### readlines()는 파일을 한 줄 단위로 모두 읽어 리스트로 반환한다"
   ]
  },
  {
   "cell_type": "code",
   "execution_count": null,
   "metadata": {},
   "outputs": [],
   "source": [
    "f=open(\"test.txt\",\"r\",encoding=\"UTF-8-sig\") #파일 열기\n",
    "print(f.readlines())\n",
    "f.close() # 파일 닫기"
   ]
  },
  {
   "cell_type": "markdown",
   "metadata": {},
   "source": [
    "# 2. 파일 쓰기\n",
    "## - 파일 열기(open , 모드지정 : \"w\") ->데이터 처리->파일에 쓰기(write)-> 파일 닫기(close)"
   ]
  },
  {
   "cell_type": "code",
   "execution_count": null,
   "metadata": {},
   "outputs": [],
   "source": [
    "text=input(\"파일에 쓸 내용을 입력하세요 : \") #사용자 입력 값을 text에 저장\n",
    "f=open(\"myData.txt\",\"w\") #myData.txt 파일을 쓰기 모드로 연다. 파일이 없을 경우, 새롭게 생성함\n",
    "f.write(text) #text의 내용을 파일에 쓰기\n",
    "f.close() # 파일 닫기"
   ]
  },
  {
   "cell_type": "code",
   "execution_count": null,
   "metadata": {},
   "outputs": [],
   "source": [
    "outfile=open(\"output.txt\",\"w\")\n",
    "while True :\n",
    "    text=input(\"파일에 쓸 내용을 입력하세요('q'입력 시 종료) : \")\n",
    "    if text==\"q\" :\n",
    "        print(\"입력을 종료합니다.\")\n",
    "        break\n",
    "    else : \n",
    "        outfile.write(text)\n",
    "outfile.close()"
   ]
  },
  {
   "cell_type": "markdown",
   "metadata": {},
   "source": [
    "## 2_1) 파일 줄바꿈 처리"
   ]
  },
  {
   "cell_type": "code",
   "execution_count": null,
   "metadata": {},
   "outputs": [],
   "source": [
    "outfile=open(\"output1.txt\",\"w\")\n",
    "while True :\n",
    "    text=input(\"파일에 쓸 내용을 입력하세요('q'입력 시 종료) : \")\n",
    "    if text==\"q\" :\n",
    "        print(\"입력을 종료합니다.\")\n",
    "        break\n",
    "    else : \n",
    "        outfile.write(text+\"\\n\")\n",
    "outfile.close()"
   ]
  },
  {
   "cell_type": "code",
   "execution_count": null,
   "metadata": {},
   "outputs": [],
   "source": [
    "data=\"\"\n",
    "count=1\n",
    "while True :\n",
    "    text=input(\"[%d]파일에 쓸 내용을 입력하세요('q'입력 시 종료) : \"%count)\n",
    "    if text==\"q\" :\n",
    "        print(\"입력을 종료합니다.\")\n",
    "        break\n",
    "    else : \n",
    "        text=text+\"\\n\"\n",
    "        data+=text\n",
    "        count+=1\n",
    "outfile=open(\"output2.txt\",\"w\")\n",
    "outfile.write(data)\n",
    "outfile.close()"
   ]
  },
  {
   "cell_type": "code",
   "execution_count": null,
   "metadata": {},
   "outputs": [],
   "source": [
    "data=[]\n",
    "count=1\n",
    "while True :\n",
    "    text=input(\"[%d]파일에 쓸 내용을 입력하세요('q'입력 시 종료) : \"%count)\n",
    "    if text==\"q\" :\n",
    "        print(\"입력을 종료합니다.\")\n",
    "        break\n",
    "    else : \n",
    "        data.append(text+\"\\n\")\n",
    "        count+=1\n",
    "print(data)\n",
    "outfile=open(\"output3.txt\",\"w\")\n",
    "outfile.writelines(data)\n",
    "outfile.close()"
   ]
  },
  {
   "cell_type": "markdown",
   "metadata": {},
   "source": [
    "# [문제] proverbs.txt파일을 읽어서 단어 단위로 화면 출력하기 "
   ]
  },
  {
   "cell_type": "code",
   "execution_count": null,
   "metadata": {},
   "outputs": [],
   "source": [
    "f=open(\"proverbs.txt\",\"r\")\n",
    "while True :\n",
    "    str=f.readline()\n",
    "    if(str=='') : break\n",
    "    str=str.rstrip()\n",
    "    words+=str.split(' ')  \n",
    "for word in words :\n",
    "    if word.endswith(\".\") :\n",
    "        word=word[:-1]\n",
    "    print(word)\n",
    "f.close()"
   ]
  },
  {
   "cell_type": "markdown",
   "metadata": {},
   "source": [
    "# 4. CSV(Comma Separated Values) 파일\n",
    "## - 각각의 데이터가 쉼표(,)로 분리된 파일\n",
    "## - import csv\n",
    "## - csv.reader() : 파일 읽기\n",
    "## - csv.writer() : 파일 쓰기"
   ]
  },
  {
   "cell_type": "code",
   "execution_count": null,
   "metadata": {},
   "outputs": [],
   "source": [
    "import csv #csv 모듈 임포트\n",
    "f=open(\"학급문고.csv\",\"r\")#f라는 변수에 학급문고.csv 저장\n",
    "data=csv.reader(f)#f를 csv 파일의 형태로 변형 후 data 변수에 저장\n",
    "#print(data) #csv의 reader객체라는 의미의 문구 출력\n",
    "header=next(data)#header(나머지 데이터에 대한 설명)변수에 한 줄을 저장\n",
    "for line in data :\n",
    "    print(line) #전체 데이터를 한 줄씩  출력\n",
    "f.close()"
   ]
  },
  {
   "cell_type": "code",
   "execution_count": null,
   "metadata": {},
   "outputs": [],
   "source": [
    "import csv #csv 모듈 임포트\n",
    "f=open(\"학급문고.csv\",\"r\") \n",
    "data=csv.reader(f)\n",
    "header=next(data)\n",
    "for line in data :\n",
    "    print(line[0]+\"\\t\"+line[2]) #연번과 도서명만 출력하기 \n",
    "f.close()"
   ]
  },
  {
   "cell_type": "code",
   "execution_count": null,
   "metadata": {},
   "outputs": [],
   "source": [
    "import csv #csv 모듈 임포트\n",
    "f=open(\"학급문고.csv\",\"r+\") #'학급문고.csv'파일을 읽고 추가하기 모드로 연다\n",
    "\n",
    "data=csv.reader(f)\n",
    "header=next(data) #첫 줄 데이터 처리\n",
    "data=list(data) #data를 리스트로 변환\n",
    "count=len(data) #data의 전체 갯수를 센다\n",
    "newData=[count+1,'문학예술', '언어의온도', '이기주', '말글터', '2016.8.19']#추가 될 데이터 \n",
    "data.append(newData) # 데이터 추가\n",
    "for line in data :\n",
    "    line[0]=int(line[0]) #첫 번째 데이터 값을 정수로 변환\n",
    "    print(line) \n",
    "f.close()"
   ]
  },
  {
   "cell_type": "markdown",
   "metadata": {},
   "source": [
    "# [개인별 프로젝트 sample] 어린왕자단어장 만들기 \n",
    "## 1. 어린 왕자 이야기가 있는 텍스트 파일을 읽는다.\n",
    "## 2. 한 문장에서 단어가 나오는 빈도수를 구하여 출력한다.\n",
    "###     2-1) 모든 문장의 마침표, 쉼표 등 특수 문자는 모두 제거한다.\n",
    "###     2-2) 모든 문자는 소문자로 표현한다.\n",
    "###     2-3) 4글자 이상인 단어만 포함한다.(the, a, an, i'm 등의 단어 제외) \n",
    "## 3. 단어별로 나오는 빈도수를 구하여 csv파일에 저장한다.\n"
   ]
  },
  {
   "cell_type": "markdown",
   "metadata": {},
   "source": [
    "### 3_1) 어린왕자 단어장의 모든 내용을 읽어온다. "
   ]
  },
  {
   "cell_type": "code",
   "execution_count": null,
   "metadata": {},
   "outputs": [],
   "source": [
    "#1.어린왕자 단어장의 모든 내용을 읽어온다.\n",
    "f=open(\"thelittleprince.txt\",\"r\")\n",
    "\n",
    "for row in f :\n",
    "    print(row)\n",
    "f.close()"
   ]
  },
  {
   "cell_type": "markdown",
   "metadata": {},
   "source": [
    "### 3_2) 불필요한 문장 기호를 없애고 모두 소문자로 변환한다.\n",
    "#### 가. 줄바꿈 기호 없애기\n",
    "#### 나. string모듈로 불필요한 텍스트 정제하기\n",
    "#### 다. 소문자로 변환하기"
   ]
  },
  {
   "cell_type": "code",
   "execution_count": null,
   "metadata": {},
   "outputs": [],
   "source": [
    "import string # string모듈 임포트\n",
    "f=open(\"thelittleprince.txt\",\"r\")\n",
    "\n",
    "for row in f :\n",
    "    row=row.strip() #줄바꿈 기호 없애기\n",
    "    row=row.translate(row.maketrans(\"\",\"\",string.punctuation)) #불필요한 기호 없애기\n",
    "    row=row.lower() #소문자로 변환\n",
    "    print(row)\n",
    "f.close()"
   ]
  },
  {
   "cell_type": "markdown",
   "metadata": {},
   "source": [
    "### 3_3) 한 문장를 단어 단위로 자른다\n",
    "#### 가. 단어 단위로 자르기 : 공백 기준으로 자르기\n",
    "#### 나. 자른 단어를 words라는 변수에 저장하기"
   ]
  },
  {
   "cell_type": "code",
   "execution_count": null,
   "metadata": {},
   "outputs": [],
   "source": [
    "import string # string모듈 임포트\n",
    "f=open(\"thelittleprince.txt\",\"r\")\n",
    "\n",
    "for row in f :\n",
    "    row=row.strip() #줄바꿈 기호 없애기\n",
    "    row=row.translate(row.maketrans(\"\",\"\",string.punctuation)) #불필요한 기호 없애기\n",
    "    row=row.lower() #소문자로 변환\n",
    "    words=row.split()\n",
    "    print(words)\n",
    "f.close()"
   ]
  },
  {
   "cell_type": "markdown",
   "metadata": {},
   "source": [
    "### 3_4) 각 단어의 등장 횟수를 센다.\n",
    "#### 가. 딕셔너리를 이용하여 단어와 단어의 등장 횟수를 세어 연결"
   ]
  },
  {
   "cell_type": "code",
   "execution_count": null,
   "metadata": {},
   "outputs": [],
   "source": [
    "import string\n",
    "f=open(\"thelittleprince.txt\",\"r\")\n",
    "\n",
    "counts={}\n",
    "for row in f :\n",
    "    row=row.strip() \n",
    "    row=row.translate(row.maketrans(\"\",\"\",string.punctuation))\n",
    "    row=row.lower()\n",
    "    words=row.split()\n",
    "    for word in words : #단어 단위로 구별된 문장 리스트에서 한 단어씩 꺼낸다\n",
    "        if word in counts :#단어가 이미 counts딕셔너리에 있으면 \n",
    "            counts[word]+=1 # 해당 단어의 횟수를 1 증가 시키고\n",
    "        else : #그렇지 않으면(처음 나오는 단어이면)\n",
    "            counts[word]=1 # 단어의 횟수를 1로 초기화 한다.\n",
    "   # print(words)\n",
    "f.close()\n",
    "print(counts)"
   ]
  },
  {
   "cell_type": "markdown",
   "metadata": {},
   "source": [
    "### 3_5) 등장 횟수에 따라 정렬\n",
    "#### 가. 등장 횟수가 많은 것부터 적은 순으로 내림차순으로 정렬\n",
    "#### [참고] operator이용"
   ]
  },
  {
   "cell_type": "code",
   "execution_count": null,
   "metadata": {},
   "outputs": [],
   "source": [
    "import string\n",
    "import operator\n",
    "f=open(\"thelittleprince.txt\",\"r\")\n",
    "\n",
    "counts={}\n",
    "for row in f :\n",
    "    row=row.strip() \n",
    "    row=row.translate(row.maketrans(\"\",\"\",string.punctuation))\n",
    "    row=row.lower()\n",
    "    words=row.split()\n",
    "    for word in words : \n",
    "        if word in counts :\n",
    "            counts[word]+=1 \n",
    "        else : \n",
    "            counts[word]=1 \n",
    "   # print(words)\n",
    "f.close()\n",
    "\n",
    "sorted_counts=sorted(counts.items(),key=operator.itemgetter(1),reverse=True) #내림차순 정렬하여 sorted_counts에 저장\n",
    "print(sorted_counts)"
   ]
  },
  {
   "cell_type": "markdown",
   "metadata": {},
   "source": [
    "### 3_6) 단어의 길이가 4글자 이상인 단어만 대상으로 하기"
   ]
  },
  {
   "cell_type": "code",
   "execution_count": null,
   "metadata": {},
   "outputs": [],
   "source": [
    "import string\n",
    "import operator\n",
    "f=open(\"thelittleprince.txt\",\"r\")\n",
    "\n",
    "counts={}\n",
    "for row in f :\n",
    "    row=row.strip() \n",
    "    row=row.translate(row.maketrans(\"\",\"\",string.punctuation))\n",
    "    row=row.lower()\n",
    "    words=row.split()\n",
    "    for word in words :\n",
    "        if len(word)>=4 :\n",
    "            if word in counts :\n",
    "                counts[word]+=1 \n",
    "            else : \n",
    "                counts[word]=1 \n",
    "   # print(words)\n",
    "f.close()\n",
    "\n",
    "sorted_counts=sorted(counts.items(),key=operator.itemgetter(1),reverse=True) #내림차순 정렬하여 sorted_counts에 저장\n",
    "print(sorted_counts)"
   ]
  },
  {
   "cell_type": "markdown",
   "metadata": {},
   "source": [
    "### 3_7) wordbook.csv파일에 쓰기 "
   ]
  },
  {
   "cell_type": "code",
   "execution_count": null,
   "metadata": {},
   "outputs": [],
   "source": [
    "import string\n",
    "import operator\n",
    "f=open(\"thelittleprince.txt\",\"r\")\n",
    "\n",
    "counts={}\n",
    "for row in f :\n",
    "    row=row.strip() \n",
    "    row=row.translate(row.maketrans(\"\",\"\",string.punctuation))\n",
    "    row=row.lower()\n",
    "    words=row.split()\n",
    "    for word in words :\n",
    "        if len(word)>=4 :\n",
    "            if word in counts :\n",
    "                counts[word]+=1 \n",
    "            else : \n",
    "                counts[word]=1 \n",
    "   # print(words)\n",
    "f.close()\n",
    "\n",
    "sorted_counts=sorted(counts.items(),key=operator.itemgetter(1),reverse=True) #내림차순 정렬하여 sorted_counts에 저장\n",
    "#print(sorted_counts)\n",
    "\n",
    "import csv\n",
    "wf=open(\"wordbook.csv\",\"w\",newline='')\n",
    "w=csv.writer(wf)\n",
    "for i in sorted_counts :\n",
    "    print(i[0],i[1]) #단어(i[0]), 빈도수(i[1])-->화면 출력으로 확인\n",
    "    w.writerow([i[0],i[1]])\n",
    "wf.close()"
   ]
  }
 ],
 "metadata": {
  "kernelspec": {
   "display_name": "Python 3",
   "language": "python",
   "name": "python3"
  },
  "language_info": {
   "codemirror_mode": {
    "name": "ipython",
    "version": 3
   },
   "file_extension": ".py",
   "mimetype": "text/x-python",
   "name": "python",
   "nbconvert_exporter": "python",
   "pygments_lexer": "ipython3",
   "version": "3.6.5"
  }
 },
 "nbformat": 4,
 "nbformat_minor": 2
}
