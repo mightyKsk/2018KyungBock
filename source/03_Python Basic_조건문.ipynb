{
 "cells": [
  {
   "cell_type": "markdown",
   "metadata": {},
   "source": [
    "# 1_1. 관계(비교) 연산자 : 어떤 값의 크기를 비교할 때 사용\n",
    "### - x==y : x와 y의 값이 같으면 True\n",
    "### - x!=y :  x와 y의 값이 다르면 True"
   ]
  },
  {
   "cell_type": "code",
   "execution_count": null,
   "metadata": {},
   "outputs": [],
   "source": [
    "1>3"
   ]
  },
  {
   "cell_type": "code",
   "execution_count": null,
   "metadata": {},
   "outputs": [],
   "source": [
    "3<5"
   ]
  },
  {
   "cell_type": "code",
   "execution_count": null,
   "metadata": {},
   "outputs": [],
   "source": [
    "'a'=='A'"
   ]
  },
  {
   "cell_type": "code",
   "execution_count": null,
   "metadata": {},
   "outputs": [],
   "source": [
    "'1'==1"
   ]
  },
  {
   "cell_type": "code",
   "execution_count": null,
   "metadata": {},
   "outputs": [],
   "source": [
    "5//3==1"
   ]
  },
  {
   "cell_type": "code",
   "execution_count": null,
   "metadata": {},
   "outputs": [],
   "source": [
    "6%3!=0"
   ]
  },
  {
   "cell_type": "markdown",
   "metadata": {},
   "source": [
    "# 1_2. 논리연산자 : 어떤 조건이 참(True)인지 거짓(False)인지 판별할 때\n",
    "###  - x and y : x와 y가 모두 True인 경우 True 반환\n",
    "### - x or y :  x와 y 중 하나로도 True인 경우 True를 반환\n",
    "### - not x : x가 True인 경우, False를 반환하고 False인 경우 True를 반환"
   ]
  },
  {
   "cell_type": "code",
   "execution_count": null,
   "metadata": {},
   "outputs": [],
   "source": [
    "True and True"
   ]
  },
  {
   "cell_type": "code",
   "execution_count": null,
   "metadata": {},
   "outputs": [],
   "source": [
    "True and False"
   ]
  },
  {
   "cell_type": "code",
   "execution_count": null,
   "metadata": {},
   "outputs": [],
   "source": [
    "True or False"
   ]
  },
  {
   "cell_type": "code",
   "execution_count": null,
   "metadata": {},
   "outputs": [],
   "source": [
    "False or False"
   ]
  },
  {
   "cell_type": "markdown",
   "metadata": {},
   "source": [
    "# 1_3. 조건식 "
   ]
  },
  {
   "cell_type": "code",
   "execution_count": null,
   "metadata": {},
   "outputs": [],
   "source": [
    "(1 > 3) and (4 < 5 )"
   ]
  },
  {
   "cell_type": "code",
   "execution_count": null,
   "metadata": {},
   "outputs": [],
   "source": [
    "(1 > 3 ) or (4 < 5)"
   ]
  },
  {
   "cell_type": "code",
   "execution_count": null,
   "metadata": {},
   "outputs": [],
   "source": [
    "not (1 < 3)"
   ]
  },
  {
   "cell_type": "markdown",
   "metadata": {},
   "source": [
    "# 2. if"
   ]
  },
  {
   "cell_type": "code",
   "execution_count": null,
   "metadata": {},
   "outputs": [],
   "source": [
    "x=1225\n",
    "if(x==1225) :\n",
    "    print(\"X-mas\")"
   ]
  },
  {
   "cell_type": "code",
   "execution_count": null,
   "metadata": {},
   "outputs": [],
   "source": [
    "num=int(input(\"정수입력 : \"))\n",
    "if (num>100) :\n",
    "    print(\"100보다 큰 수네요!\")"
   ]
  },
  {
   "cell_type": "markdown",
   "metadata": {},
   "source": [
    "# 3. if~else"
   ]
  },
  {
   "cell_type": "code",
   "execution_count": null,
   "metadata": {},
   "outputs": [],
   "source": [
    "num=int(input(\"정수입력 : \"))\n",
    "if (num>100) :\n",
    "    print(\"100보다 큰 수네요!\")\n",
    "else :\n",
    "    print(\"100보다 작은 수네요!\")"
   ]
  },
  {
   "cell_type": "markdown",
   "metadata": {},
   "source": [
    "# 짝수-홀수 판별 프로그램 "
   ]
  },
  {
   "cell_type": "code",
   "execution_count": null,
   "metadata": {},
   "outputs": [],
   "source": [
    "num=int(input(\"정수입력:\"))\n",
    "if (num%2==0) :\n",
    "    print(\"짝수입니다!\")\n",
    "else :\n",
    "    print(\"홀수입니다!\")"
   ]
  },
  {
   "cell_type": "markdown",
   "metadata": {},
   "source": [
    "# 영화관람 나이 판별 프로그램 "
   ]
  },
  {
   "cell_type": "code",
   "execution_count": null,
   "metadata": {},
   "outputs": [],
   "source": [
    "age=int(input(\"나이입력 : \"))\n",
    "if (age<=15) :\n",
    "    print(\"이 영화는 관람이 불가합니다\")\n",
    "    print(\"다른 영화를 선택하세요\")\n",
    "else :\n",
    "    print(\"이 영화는 관람이 가능합니다\")\n",
    "    print(\"금액은 10000원입니다\")"
   ]
  },
  {
   "cell_type": "markdown",
   "metadata": {},
   "source": [
    "# 3. if~elif~else"
   ]
  },
  {
   "cell_type": "code",
   "execution_count": null,
   "metadata": {},
   "outputs": [],
   "source": [
    "#x를 사용자 입력받아서 처리하기\n",
    "x=85\n",
    "if (x>0) :\n",
    "    print(\"양수\")\n",
    "elif (x<0) :\n",
    "    print(\"음수\")\n",
    "else :\n",
    "    print(\"0\")"
   ]
  },
  {
   "cell_type": "markdown",
   "metadata": {},
   "source": [
    "# 점수를 입력받아 학점을 알려주는 프로그램"
   ]
  },
  {
   "cell_type": "code",
   "execution_count": null,
   "metadata": {},
   "outputs": [],
   "source": [
    "score=int(input(\"점수입력 : \"))\n",
    "if score>=90 :\n",
    "    grade='A'\n",
    "elif score >=80 :\n",
    "    grade='B'\n",
    "elif score >=70 :\n",
    "    grade='C'\n",
    "elif score >=60 :\n",
    "    grade='D'\n",
    "elif score >=50 :\n",
    "    grade='E'\n",
    "else :\n",
    "    grade='F'\n",
    "    \n",
    "print(\"%d의 해당 등급은 %s입니다.\"%(score,grade))"
   ]
  },
  {
   "cell_type": "markdown",
   "metadata": {},
   "source": [
    "# 아이디 패스워드 확인 프로그램"
   ]
  },
  {
   "cell_type": "code",
   "execution_count": null,
   "metadata": {},
   "outputs": [],
   "source": [
    "id=\"KyungBock\"\n",
    "passwd=\"Bock222\"\n",
    "\n",
    "inputId=input(\"아이디: \")\n",
    "inputPasswd=input(\"패스워드 :\")\n",
    "\n",
    "if(id==inputId):\n",
    "    if(passwd==inputPasswd) :\n",
    "        print(id,\"님 환영합니다.\")\n",
    "    else :\n",
    "        print(id,\"님 패스워드를 확인하세요\")\n",
    "else :\n",
    "    print(\"해당 아이디가 존재하지 않습니다.\")"
   ]
  }
 ],
 "metadata": {
  "kernelspec": {
   "display_name": "Python 3",
   "language": "python",
   "name": "python3"
  },
  "language_info": {
   "codemirror_mode": {
    "name": "ipython",
    "version": 3
   },
   "file_extension": ".py",
   "mimetype": "text/x-python",
   "name": "python",
   "nbconvert_exporter": "python",
   "pygments_lexer": "ipython3",
   "version": "3.6.5"
  }
 },
 "nbformat": 4,
 "nbformat_minor": 2
}
