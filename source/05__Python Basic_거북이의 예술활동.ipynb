{
 "cells": [
  {
   "cell_type": "markdown",
   "metadata": {},
   "source": [
    "# 집 짓는 거북이"
   ]
  },
  {
   "cell_type": "code",
   "execution_count": null,
   "metadata": {},
   "outputs": [],
   "source": [
    "import turtle # 거북이 모듈을 임포트\n",
    "t=turtle.Turtle() # t라는 벼수에 거북이를 생성해 준다\n",
    "t.shape(\"turtle\") # 모양을 거북이 모양으로\n",
    "\n",
    "#사용자로부터 한 변의 크기 입력\n",
    "width=int(turtle.textinput(\"집짓는 거북이\",\"한 변의 크기 입력\"))\n",
    "#사각형 색칠하기\n",
    "t.color(\"purple\")\n",
    "t.begin_fill() #색칠할 영역의 시작점\n",
    "#입력된 크기를 한 변으로 하는 사각형 그리기\n",
    "for i in range(1,5) :\n",
    "    t.fd(width)\n",
    "    t.right(90)\n",
    "\n",
    "t.end_fill()#색칠할 영역의 종료\n",
    "\n",
    "#삼각형 색칠하기\n",
    "t.color(\"green\")\n",
    "t.begin_fill()\n",
    "#끝지점을 기준으로 삼각형 지붕 그리기\n",
    "t.left(60)\n",
    "t.fd(width)\n",
    "t.right(120)\n",
    "t.fd(width)\n",
    "t.end_fill()\n",
    "\n",
    "turtle.done() #사용자가 창의 \"종료(X)\"를 누를때까지 화면 유지하기"
   ]
  },
  {
   "cell_type": "markdown",
   "metadata": {},
   "source": [
    "# 다각형 그리는 거북이 "
   ]
  },
  {
   "cell_type": "code",
   "execution_count": null,
   "metadata": {},
   "outputs": [],
   "source": [
    "import turtle\n",
    "t=turtle.Turtle()\n",
    "t.shape(\"turtle\")\n",
    "#색 지정 : colors라는 리스트에 색 목록을 저장한다.\n",
    "colors=[\"red\",\"orange\",\"yellow\",\"green\",\"blue\",\"purple\"]\n",
    "\n",
    "#색을 랜덤으로 하나 가져오기\n",
    "import random #랜덤 모듈 임포트\n",
    "t.color(random.choice(colors)) #colors에 있는 색 목록 중 랜덤으로 하나의 색깔을 선택한다\n",
    "\n",
    "#사용자로부터 다각형 변의 수를 입력 받는다.\n",
    "cnt=int(turtle.textinput(\"다각형 그리는 거북이\",\"다각형의 변의 수 입력\"))\n",
    "\n",
    "#회전각 계산\n",
    "angle=360/cnt\n",
    "\n",
    "t.begin_fill()\n",
    "for cnt in range(0, cnt) :\n",
    "    t.fd(100)\n",
    "    t.left(angle)\n",
    "\n",
    "t.end_fill()\n",
    "\n",
    "turtle.done()"
   ]
  },
  {
   "cell_type": "markdown",
   "metadata": {},
   "source": [
    "# 스파이럴 그리는 거북이"
   ]
  },
  {
   "cell_type": "code",
   "execution_count": null,
   "metadata": {},
   "outputs": [],
   "source": [
    "import turtle\n",
    "import random #랜덤 처리를 위한 모듈\n",
    "t=turtle.Turtle()\n",
    "t.shape(\"turtle\")\n",
    "colors=[\"red\",\"orange\",\"yellow\",\"green\",\"blue\",\"purple\"]\n",
    "\n",
    "turtle.bgcolor(\"black\")#배경색을 까만색으로 설정\n",
    "t.width(3)# 선분의 굵기 변화\n",
    "t.speed(0)# 거북이 스피드 변화\n",
    "line=5\n",
    "#스파이럴 그리기\n",
    "for i in range(0,50) :\n",
    "    t.color(random.choice(colors)) #colors에서 색을 랜덤으로 선택한다.\n",
    "    t.fd(line)\n",
    "    t.right(89)\n",
    "    line+=5 #선분 길이를 5씩 길어지도록 설정\n",
    "\n",
    "turtle.done()"
   ]
  },
  {
   "cell_type": "code",
   "execution_count": null,
   "metadata": {},
   "outputs": [],
   "source": []
  }
 ],
 "metadata": {
  "kernelspec": {
   "display_name": "Python 3",
   "language": "python",
   "name": "python3"
  },
  "language_info": {
   "codemirror_mode": {
    "name": "ipython",
    "version": 3
   },
   "file_extension": ".py",
   "mimetype": "text/x-python",
   "name": "python",
   "nbconvert_exporter": "python",
   "pygments_lexer": "ipython3",
   "version": "3.6.5"
  }
 },
 "nbformat": 4,
 "nbformat_minor": 2
}
