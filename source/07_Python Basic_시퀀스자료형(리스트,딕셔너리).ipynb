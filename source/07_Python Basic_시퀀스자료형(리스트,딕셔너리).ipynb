{
 "cells": [
  {
   "cell_type": "markdown",
   "metadata": {},
   "source": [
    "# 1.변수 : 자료를 저장할 수 있는 공간"
   ]
  },
  {
   "cell_type": "code",
   "execution_count": null,
   "metadata": {},
   "outputs": [],
   "source": [
    "#자료를 저장할 수 있는 공간 : 변수\n",
    "hero1=\"아이언맨\"\n",
    "hero2=\"토르\"\n",
    "hero3=\"헐크\"\n",
    "hero4=\"캡틴아메리카\"\n",
    "\n",
    "print(hero1)\n",
    "print(hero2)\n",
    "print(hero3)\n",
    "print(hero4)"
   ]
  },
  {
   "cell_type": "markdown",
   "metadata": {},
   "source": [
    "# 2. 리스트 : 자료를 묶어서 저장할 수 있는 공간 "
   ]
  },
  {
   "cell_type": "markdown",
   "metadata": {},
   "source": [
    "## - list형 변수 사용하기 : 대괄호([ ])로 감싸주고 안에 들어가는 원소들은 쉼표로 구분\n",
    "### variable_name=[element1, element2, element3, ... ]"
   ]
  },
  {
   "cell_type": "markdown",
   "metadata": {},
   "source": [
    "### 2_1) 리스트의 선언"
   ]
  },
  {
   "cell_type": "code",
   "execution_count": 3,
   "metadata": {},
   "outputs": [
    {
     "name": "stdout",
     "output_type": "stream",
     "text": [
      "['아이언맨', '토르', '헐크', '캡틴아메리카']\n"
     ]
    }
   ],
   "source": [
    "#자료를 묶어서 저장할 수 있는 공간 : 리스트\n",
    "heros=[\"아이언맨\",\"토르\",\"헐크\",\"캡틴아메리카\"] #heros라는 리스트에 여러가지 원소들을 넣는다.\n",
    "print(heros)\n"
   ]
  },
  {
   "cell_type": "markdown",
   "metadata": {},
   "source": [
    "### 2_2) 리스트의 요소를 반복문을 통해 출력하기"
   ]
  },
  {
   "cell_type": "code",
   "execution_count": 15,
   "metadata": {},
   "outputs": [
    {
     "name": "stdout",
     "output_type": "stream",
     "text": [
      "아이언맨\n",
      "토르\n",
      "헐크\n",
      "캡틴아메리카\n"
     ]
    }
   ],
   "source": [
    "heros=[\"아이언맨\",\"토르\",\"헐크\",\"캡틴아메리카\"]\n",
    "for item in heros : # 리스트(heros) 안의 요소들은 반복문을 통해서 차례대로 꺼내어 변수(item)에 저장 후\n",
    "    print(item)     # 변수(item)을 통해 하나씩 출력할 수 있다"
   ]
  },
  {
   "cell_type": "markdown",
   "metadata": {},
   "source": [
    "### 2_3) 다양한 리스트의 선언"
   ]
  },
  {
   "cell_type": "code",
   "execution_count": 4,
   "metadata": {},
   "outputs": [
    {
     "name": "stdout",
     "output_type": "stream",
     "text": [
      "list1출력 : []\n",
      "\n",
      "list2출력 : [1, 2, 3, 4, 5]\n",
      "\n",
      "list3출력 : ['a', 'b', 'c']\n",
      "\n",
      "list4출력 : [1, 'a', 'abc', [1, 2, 3, 4, 5], ('a', 'b', 'c')]\n"
     ]
    }
   ],
   "source": [
    "list1=[] #빈 리스트\n",
    "list2=[1,2,3,4,5] #숫자로 구성된 리스트\n",
    "list3=['a','b','c'] #문자로 구성된 리스트\n",
    "list4=[1,'a','abc',[1,2,3,4,5],('a','b','c')] #숫자, 문자, 리스트, 튜플을 모두 가진 리스트\n",
    "\n",
    "\n",
    "print(\"list1출력 :\",list1)\n",
    "print(\"\\nlist2출력 :\",list2)\n",
    "print(\"\\nlist3출력 :\",list3)\n",
    "print(\"\\nlist4출력 :\",list4)\n"
   ]
  },
  {
   "cell_type": "code",
   "execution_count": 7,
   "metadata": {},
   "outputs": [
    {
     "name": "stdout",
     "output_type": "stream",
     "text": [
      "[1, 2, 'a', [3, 6, 9], <function myfunc at 0x00000261A258A7B8>]\n"
     ]
    }
   ],
   "source": [
    "#참고 : 함수작성\n",
    "def myfunc() :\n",
    "    print(\"안녕하세요?\")\n",
    "    \n",
    "list4=[1,2,'a',[3,6,9],myfunc] #list4에 숫자, 문자, 리스트, 함수를 넣음\n",
    "print(list4)"
   ]
  },
  {
   "cell_type": "markdown",
   "metadata": {},
   "source": [
    "# 3. 리스트의 index\n",
    "## - list의 index : 인덱스를 통해 리스트에 있는 각각의 원소를 다룰 수 있다.\n",
    "###  3_1) index는 원소가 배열된 순서를 나타내며, 항상 '0'번째부터 시작된다"
   ]
  },
  {
   "cell_type": "code",
   "execution_count": 8,
   "metadata": {},
   "outputs": [
    {
     "name": "stdout",
     "output_type": "stream",
     "text": [
      "아이언맨\n",
      "캡틴아메리카\n"
     ]
    },
    {
     "ename": "IndexError",
     "evalue": "list index out of range",
     "output_type": "error",
     "traceback": [
      "\u001b[1;31m---------------------------------------------------------------------------\u001b[0m",
      "\u001b[1;31mIndexError\u001b[0m                                Traceback (most recent call last)",
      "\u001b[1;32m<ipython-input-8-f9761d16fc6e>\u001b[0m in \u001b[0;36m<module>\u001b[1;34m()\u001b[0m\n\u001b[0;32m      2\u001b[0m \u001b[0mprint\u001b[0m\u001b[1;33m(\u001b[0m\u001b[0mheros\u001b[0m\u001b[1;33m[\u001b[0m\u001b[1;36m0\u001b[0m\u001b[1;33m]\u001b[0m\u001b[1;33m)\u001b[0m\u001b[1;33m\u001b[0m\u001b[0m\n\u001b[0;32m      3\u001b[0m \u001b[0mprint\u001b[0m\u001b[1;33m(\u001b[0m\u001b[0mheros\u001b[0m\u001b[1;33m[\u001b[0m\u001b[1;36m3\u001b[0m\u001b[1;33m]\u001b[0m\u001b[1;33m)\u001b[0m\u001b[1;33m\u001b[0m\u001b[0m\n\u001b[1;32m----> 4\u001b[1;33m \u001b[0mprint\u001b[0m\u001b[1;33m(\u001b[0m\u001b[0mheros\u001b[0m\u001b[1;33m[\u001b[0m\u001b[1;36m4\u001b[0m\u001b[1;33m]\u001b[0m\u001b[1;33m)\u001b[0m\u001b[1;33m\u001b[0m\u001b[0m\n\u001b[0m",
      "\u001b[1;31mIndexError\u001b[0m: list index out of range"
     ]
    }
   ],
   "source": [
    "heros=[\"아이언맨\",\"토르\",\"헐크\",\"캡틴아메리카\"]\n",
    "print(heros[0]) #heros 리스트의 첫번째 값 출력\n",
    "print(heros[3]) #heros 리스트의 네번째 값 출력\n",
    "print(heros[4]) #heros 리스트의 다섯번째 값은 존재하지 않으므로 IndexError"
   ]
  },
  {
   "cell_type": "markdown",
   "metadata": {},
   "source": [
    "### 3_2) 리스트의 index를 통해 반복문으로 리스트의 요소 출력 "
   ]
  },
  {
   "cell_type": "code",
   "execution_count": 9,
   "metadata": {},
   "outputs": [
    {
     "name": "stdout",
     "output_type": "stream",
     "text": [
      "아이언맨\n",
      "토르\n",
      "헐크\n",
      "캡틴아메리카\n"
     ]
    }
   ],
   "source": [
    "heros=[\"아이언맨\",\"토르\",\"헐크\",\"캡틴아메리카\"]\n",
    "i=0\n",
    "while (i<4) : #i값이 0~3까지 변화\n",
    "    print(heros[i])\n",
    "    i+=1"
   ]
  },
  {
   "cell_type": "code",
   "execution_count": 10,
   "metadata": {},
   "outputs": [
    {
     "name": "stdout",
     "output_type": "stream",
     "text": [
      "heros[0] : 아이언맨\n",
      "heros[1] : 토르\n",
      "heros[2] : 헐크\n",
      "heros[3] : 캡틴아메리카\n"
     ]
    }
   ],
   "source": [
    "heros=[\"아이언맨\",\"토르\",\"헐크\",\"캡틴아메리카\"]\n",
    "i=0\n",
    "while (i<4) :\n",
    "    print(\"heros[%d] : %s\"%(i,heros[i]))\n",
    "    i+=1"
   ]
  },
  {
   "cell_type": "markdown",
   "metadata": {},
   "source": [
    "### 3_3) 거꾸로 인덱스"
   ]
  },
  {
   "cell_type": "code",
   "execution_count": 13,
   "metadata": {},
   "outputs": [
    {
     "name": "stdout",
     "output_type": "stream",
     "text": [
      "캡틴아메리카\n",
      "헐크\n",
      "토르\n",
      "아이언맨\n"
     ]
    }
   ],
   "source": [
    "heros=[\"아이언맨\",\"토르\",\"헐크\",\"캡틴아메리카\"]\n",
    "print(heros[-1])\n",
    "print(heros[-2])\n",
    "print(heros[-3])\n",
    "print(heros[-4])"
   ]
  },
  {
   "cell_type": "markdown",
   "metadata": {},
   "source": [
    "### 3_4) 인덱스 슬라이싱"
   ]
  },
  {
   "cell_type": "code",
   "execution_count": 16,
   "metadata": {},
   "outputs": [
    {
     "name": "stdout",
     "output_type": "stream",
     "text": [
      "['토르', '헐크']\n",
      "['헐크', '캡틴아메리카']\n",
      "['아이언맨', '헐크', '그루트']\n"
     ]
    }
   ],
   "source": [
    "heros=[\"아이언맨\",\"토르\",\"헐크\",\"캡틴아메리카\",\"그루트\"]\n",
    "print(heros[1:3])\n",
    "print(heros[-3:-1])\n",
    "print(heros[0::2])"
   ]
  },
  {
   "cell_type": "markdown",
   "metadata": {},
   "source": [
    "## 4. 리스트에 요소를 추가 / 삭제하기\n",
    "#### - 요소를 추가하기 : 리스트명.append(추가할 내용)\n",
    "#### - 요소를 삭제하기 : 리스트명.remove(지울 내용)\n",
    "#### - 요소를 삭제하기 : del(리스트명[위치값])"
   ]
  },
  {
   "cell_type": "code",
   "execution_count": 8,
   "metadata": {},
   "outputs": [
    {
     "name": "stdout",
     "output_type": "stream",
     "text": [
      "['아이언맨', '토르', '헐크', '캡틴아메리카']\n",
      "['아이언맨', '토르', '헐크', '캡틴아메리카', '그루트']\n",
      "['아이언맨', '토르', '캡틴아메리카', '그루트']\n"
     ]
    }
   ],
   "source": [
    "heros=[\"아이언맨\",\"토르\",\"헐크\",\"캡틴아메리카\"]\n",
    "print(heros)\n",
    "heros.append(\"그루트\")\n",
    "print(heros)\n",
    "heros.remove(\"헐크\")\n",
    "print(heros)"
   ]
  },
  {
   "cell_type": "markdown",
   "metadata": {},
   "source": [
    "## [문제] 1부터 100까지의 숫자 중 홀수로만 구성된 30개의 원소가 있는 oddList를 만들고 이 중 첫 번째 값과 다섯 번째 값을 출력해 보자."
   ]
  },
  {
   "cell_type": "code",
   "execution_count": 11,
   "metadata": {},
   "outputs": [
    {
     "name": "stdout",
     "output_type": "stream",
     "text": [
      "[43, 57, 35, 21, 55, 73, 37, 41, 61, 99, 71, 37, 95, 69, 45, 5, 11, 33, 3, 61, 77, 73, 79, 59, 5, 61, 27, 99, 13, 63]\n",
      "첫 번째 값 :  43\n",
      "다섯 번째 값 :  55\n"
     ]
    }
   ],
   "source": [
    "import random\n",
    "oddList=[]\n",
    "for i in range(1,31) : # 1~30까지 30회 반복\n",
    "    rndNum=random.randrange(1,100,2) #1~100까지의 숫자 중 홀수만 랜덤으로 발생\n",
    "    oddList.append(rndNum) # 랜덤으로 발생시킨 수rndNum을 oddList에 추가한다\n",
    "\n",
    "\n",
    "print(oddList)\n",
    "print(\"첫 번째 값 : \", oddList[0])\n",
    "print(\"다섯 번째 값 : \", oddList[4])"
   ]
  },
  {
   "cell_type": "code",
   "execution_count": 12,
   "metadata": {},
   "outputs": [
    {
     "name": "stdout",
     "output_type": "stream",
     "text": [
      "[1, 11, 21, 23, 27, 29, 35, 37, 41, 45, 47, 47, 53, 55, 61, 61, 63, 63, 65, 69, 73, 75, 81, 83, 87, 89, 91, 91, 91, 99]\n",
      "첫 번째 값 :  1\n",
      "다섯 번째 값 :  27\n"
     ]
    }
   ],
   "source": [
    "import random\n",
    "oddList=[]\n",
    "for i in range(1,31) : # 1~30까지 30회 반복\n",
    "    rndNum=random.randrange(1,100,2) #1~100까지의 숫자 중 홀수만 랜덤으로 발생\n",
    "    oddList.append(rndNum) # 랜덤으로 발생시킨 수rndNum을 oddList에 추가한다\n",
    "\n",
    "oddList.sort() #오름차순 정렬\n",
    "print(oddList) #출력 결과 중복되는 값이 있음을 확인할 수 있다.\n",
    "print(\"첫 번째 값 : \", oddList[0])\n",
    "print(\"다섯 번째 값 : \", oddList[4])"
   ]
  },
  {
   "cell_type": "markdown",
   "metadata": {},
   "source": [
    "### [문제 참고] -랜덤으로 발생 시킨 수에서 중복 값은 제하고 oddList의 원소로 추가하기"
   ]
  },
  {
   "cell_type": "code",
   "execution_count": 13,
   "metadata": {},
   "outputs": [
    {
     "name": "stdout",
     "output_type": "stream",
     "text": [
      "[1, 3, 5, 7, 11, 15, 17, 19, 25, 27, 31, 35, 37, 45, 47, 49, 53, 59, 63, 67, 73, 75, 77, 79, 83, 85, 87, 89, 93, 95, 97]\n",
      "첫 번째 값 :  1\n",
      "다섯 번째 값 :  11\n"
     ]
    }
   ],
   "source": [
    "import random\n",
    "oddList=[]\n",
    "while (len(oddList)<=30) : #oddList의 요소의 갯수가 30개가 될 때까지 반복\n",
    "    rndNum=random.randrange(1,100,2) \n",
    "    if rndNum not in oddList: #리스트에 없는 숫자만 리스트에 추가\n",
    "        oddList.append(rndNum)\n",
    "    \n",
    "oddList.sort()#오름차순 정렬\n",
    "print(oddList)\n",
    "print(\"첫 번째 값 : \", oddList[0])\n",
    "print(\"다섯 번째 값 : \", oddList[4])"
   ]
  },
  {
   "cell_type": "markdown",
   "metadata": {},
   "source": [
    "# [문제] myList에 사용자로부터 문자열을 5개 입력받아 myList에 추가하기"
   ]
  },
  {
   "cell_type": "code",
   "execution_count": 2,
   "metadata": {},
   "outputs": [
    {
     "name": "stdout",
     "output_type": "stream",
     "text": [
      "값 입력(1) : 파이썬\n",
      "값 입력(2) : 공부는\n",
      "값 입력(3) : 꿀잼\n",
      "값 입력(4) : 경복고\n",
      "값 입력(5) : SW특기자 가나요?\n",
      "<myList의 내용 출력>\n",
      "파이썬 공부는 꿀잼 경복고 SW특기자 가나요? "
     ]
    }
   ],
   "source": [
    "#비어있는 myList를 생성한다.\n",
    "myList=[]\n",
    "#사용자로부터 값을 5회 입력받는다.\n",
    "for i in range(0,5) :\n",
    "    str=input(\"값 입력(%d) : \"%(i+1))\n",
    "    myList.append(str)\n",
    "#myList의 내용 출력\n",
    "print(\"<myList의 내용 출력>\")\n",
    "for item in myList :\n",
    "    print(item,end=\" \")"
   ]
  },
  {
   "cell_type": "markdown",
   "metadata": {},
   "source": [
    "# [문제-advanced] myList에 사용자로부터 값을 5개 입력받아 myList에 추가하기\n",
    "# (단, 입력받은 값이 정수면 정수형 데이터로 변환하여 저장한다)"
   ]
  },
  {
   "cell_type": "code",
   "execution_count": 28,
   "metadata": {},
   "outputs": [
    {
     "name": "stdout",
     "output_type": "stream",
     "text": [
      "값 입력 : 파이썬\n",
      "값 입력 : 2018\n",
      "값 입력 : 공부는\n",
      "값 입력 : 10\n",
      "값 입력 : 꿀잼\n",
      "<myList의 내용 출력>\n",
      "['파이썬', 2018, '공부는', 10, '꿀잼']\n"
     ]
    }
   ],
   "source": [
    "#비어있는 myList를 생성한다.\n",
    "myList=[]\n",
    "#사용자로부터 값을 5회 입력받는다.\n",
    "for i in range(0,5) :\n",
    "    userValue=input(\"값 입력 : \")\n",
    "    if(userValue.isdigit()==True) :\n",
    "        userValue=int(userValue)\n",
    "    myList.append(userValue)\n",
    "#myList의 내용 출력\n",
    "print(\"<myList의 내용 출력>\")\n",
    "print(myList)"
   ]
  },
  {
   "cell_type": "markdown",
   "metadata": {},
   "source": [
    "## [참고] Tuple \n",
    "### - (  )로 데이터를 묶어서 표현\n",
    "### - 읽기만 가능 "
   ]
  },
  {
   "cell_type": "code",
   "execution_count": 13,
   "metadata": {},
   "outputs": [
    {
     "name": "stdout",
     "output_type": "stream",
     "text": [
      "(1, 2, 3, 4, 5)\n",
      "('a', 'b', 'c')\n"
     ]
    },
    {
     "ename": "TypeError",
     "evalue": "'tuple' object does not support item assignment",
     "output_type": "error",
     "traceback": [
      "\u001b[1;31m---------------------------------------------------------------------------\u001b[0m",
      "\u001b[1;31mTypeError\u001b[0m                                 Traceback (most recent call last)",
      "\u001b[1;32m<ipython-input-13-8de26fd76a27>\u001b[0m in \u001b[0;36m<module>\u001b[1;34m()\u001b[0m\n\u001b[0;32m      3\u001b[0m \u001b[0mprint\u001b[0m\u001b[1;33m(\u001b[0m\u001b[0mtuple1\u001b[0m\u001b[1;33m)\u001b[0m\u001b[1;33m\u001b[0m\u001b[0m\n\u001b[0;32m      4\u001b[0m \u001b[0mprint\u001b[0m\u001b[1;33m(\u001b[0m\u001b[0mtuple2\u001b[0m\u001b[1;33m)\u001b[0m\u001b[1;33m\u001b[0m\u001b[0m\n\u001b[1;32m----> 5\u001b[1;33m \u001b[0mtuple1\u001b[0m\u001b[1;33m[\u001b[0m\u001b[1;36m0\u001b[0m\u001b[1;33m]\u001b[0m\u001b[1;33m=\u001b[0m\u001b[1;36m7\u001b[0m\u001b[1;33m\u001b[0m\u001b[0m\n\u001b[0m",
      "\u001b[1;31mTypeError\u001b[0m: 'tuple' object does not support item assignment"
     ]
    }
   ],
   "source": [
    "tuple1=(1,2,3,4,5)\n",
    "tuple2=('a','b','c')\n",
    "print(tuple1)\n",
    "print(tuple2)\n",
    "tuple1[0]=7"
   ]
  },
  {
   "cell_type": "markdown",
   "metadata": {},
   "source": [
    "## [참고] Set\n",
    "### - {  }로 데이터를 묶어서 표현\n",
    "### - 순서가 없다. 중복 불가능\n",
    "### - 교집합(&), 합집합(|), 차집합(-)과 같은 연산을 할 때 유리함"
   ]
  },
  {
   "cell_type": "code",
   "execution_count": 1,
   "metadata": {},
   "outputs": [
    {
     "name": "stdout",
     "output_type": "stream",
     "text": [
      "{1, 2, 3}\n"
     ]
    }
   ],
   "source": [
    "set1={1,1,2,2,3} #중복된 값을 set에 넣을 경우\n",
    "print(set1) # 출력 결과를 보면, 중복된 값은 포함되지 않음"
   ]
  },
  {
   "cell_type": "markdown",
   "metadata": {},
   "source": [
    "### [참고] 중복 데이터를 제거하면서 랜덤 홀수 저장하는 예제의 Set을 이용한 풀이 "
   ]
  },
  {
   "cell_type": "code",
   "execution_count": 4,
   "metadata": {},
   "outputs": [
    {
     "name": "stdout",
     "output_type": "stream",
     "text": [
      "[5, 7, 11, 13, 15, 21, 25, 27, 29, 31, 33, 37, 39, 41, 45, 47, 49, 53, 55, 57, 59, 61, 65, 73, 79, 81, 85, 87, 89, 91, 95]\n",
      "첫 번째 값 :  5\n",
      "다섯 번째 값 :  15\n"
     ]
    }
   ],
   "source": [
    "import random\n",
    "oddSet=set() #비어 있는 Set oddSet을 선언 : oddSet={ }으로 선언할 경우, 딕셔너리로 인식함.\n",
    "while (len(oddSet)<=30) : #oddSet의 요소의 갯수가 30개가 될 때까지 반복\n",
    "    rndNum=random.randrange(1,100,2) \n",
    "    oddSet.add(rndNum) #Set자료형에 데이터를 추가 : add()함수 \n",
    "    \n",
    "oddList=list(oddSet) #oddSet을 리스트로 변환하여 oddList에 값을 넣는다\n",
    "oddList.sort()#오름차순 정렬\n",
    "print(oddList)\n",
    "print(\"첫 번째 값 : \", oddList[0])\n",
    "print(\"다섯 번째 값 : \", oddList[4])"
   ]
  },
  {
   "cell_type": "markdown",
   "metadata": {},
   "source": [
    "# [문제] '박하맛' 사탕은 싫어요 "
   ]
  },
  {
   "cell_type": "code",
   "execution_count": null,
   "metadata": {},
   "outputs": [],
   "source": [
    "candy_bag=['레몬맛', '박하맛', '딸기맛', '우유맛', '박하맛', '커피맛', '포도맛', '박하맛']\n",
    "print(\"<candy_bag의 내용확인>\")\n",
    "for item in candy_bag :\n",
    "    print(item,end=\" \")\n",
    "print(\"\\n박하맛이 싫어요! \\n박하맛을 모두 딸기맛으로!!!\")\n",
    "i=0\n",
    "while(i<len(candy_bag)) :\n",
    "    if(candy_bag[i]==\"박하맛\") :\n",
    "        candy_bag[i]=\"딸기맛\"\n",
    "        \n",
    "    i=i+1\n",
    "print(\"<candy_bag의 내용 다시 확인>\")\n",
    "for item in candy_bag :\n",
    "    print(item,end=\" \")\n"
   ]
  },
  {
   "cell_type": "code",
   "execution_count": 7,
   "metadata": {},
   "outputs": [
    {
     "name": "stdout",
     "output_type": "stream",
     "text": [
      "<candy_bag의 내용확인>\n",
      "레몬맛 박하맛 딸기맛 우유맛 박하맛 커피맛 포도맛 박하맛 \n",
      "박하맛이 싫어요! \n",
      "박하맛을 모두 딸기맛으로!!!\n",
      "레몬맛\n",
      "박하맛\n",
      "박하맛 발견.....딸기맛으로 변환\n",
      "딸기맛\n",
      "우유맛\n",
      "박하맛\n",
      "박하맛 발견.....딸기맛으로 변환\n",
      "커피맛\n",
      "포도맛\n",
      "박하맛\n",
      "박하맛 발견.....딸기맛으로 변환\n",
      "<candy_bag의 내용 다시 확인>\n",
      "레몬맛 딸기맛 딸기맛 우유맛 딸기맛 커피맛 포도맛 딸기맛 "
     ]
    }
   ],
   "source": [
    "import time #sleep함수를 쓰기 위해 import\n",
    "candy_bag=['레몬맛', '박하맛', '딸기맛', '우유맛', '박하맛', '커피맛', '포도맛', '박하맛']\n",
    "print(\"<candy_bag의 내용확인>\")\n",
    "for item in candy_bag :\n",
    "    print(item,end=\" \")\n",
    "print(\"\\n박하맛이 싫어요! \\n박하맛을 모두 딸기맛으로!!!\")\n",
    "i=0\n",
    "while(i<len(candy_bag)) :\n",
    "    time.sleep(1) # 1초씩 정지했다가 수행함\n",
    "    print(candy_bag[i])\n",
    "    if(candy_bag[i]==\"박하맛\") :\n",
    "        print(\"박하맛 발견.....딸기맛으로 변환\")\n",
    "        candy_bag[i]=\"딸기맛\"\n",
    "        \n",
    "    i=i+1\n",
    "print(\"<candy_bag의 내용 다시 확인>\")\n",
    "for item in candy_bag :\n",
    "    print(item,end=\" \")"
   ]
  },
  {
   "cell_type": "markdown",
   "metadata": {},
   "source": [
    "# [문제]딸기맛도 싫어요"
   ]
  },
  {
   "cell_type": "code",
   "execution_count": 30,
   "metadata": {},
   "outputs": [
    {
     "name": "stdout",
     "output_type": "stream",
     "text": [
      "<candy_bag의 내용확인>\n",
      "레몬맛 딸기맛 딸기맛 우유맛 딸기맛 커피맛 포도맛 딸기맛 \n",
      "딸기맛도 싫어요! \n",
      "딸기맛을 모두 삭제할래요!\n",
      "레몬맛\n",
      "딸기맛\n",
      "딸기맛 발견.....삭제\n",
      "딸기맛\n",
      "딸기맛 발견.....삭제\n",
      "우유맛\n",
      "딸기맛\n",
      "딸기맛 발견.....삭제\n",
      "커피맛\n",
      "포도맛\n",
      "딸기맛\n",
      "딸기맛 발견.....삭제\n",
      "<candy_bag의 내용 다시 확인>\n",
      "레몬맛 우유맛 커피맛 포도맛 "
     ]
    }
   ],
   "source": [
    "import time\n",
    "candy_bag=['레몬맛', '딸기맛', '딸기맛', '우유맛', '딸기맛', '커피맛', '포도맛', '딸기맛']\n",
    "print(\"<candy_bag의 내용확인>\")\n",
    "for item in candy_bag :\n",
    "    print(item,end=\" \")\n",
    "print(\"\\n딸기맛도 싫어요! \\n딸기맛을 모두 삭제할래요!\")\n",
    "i=0\n",
    "while(i<len(candy_bag)) :\n",
    "    time.sleep(1)\n",
    "    print(candy_bag[i])\n",
    "    if(candy_bag[i]==\"딸기맛\") :\n",
    "        print(\"딸기맛 발견.....삭제\")\n",
    "        del candy_bag[i] #리스트의 내용 삭제 :del()\n",
    "    else : i=i+1\n",
    "print(\"<candy_bag의 내용 다시 확인>\")\n",
    "for item in candy_bag :\n",
    "    print(item,end=\" \")"
   ]
  },
  {
   "cell_type": "markdown",
   "metadata": {},
   "source": [
    "# [영어 단어 프로그램 : in 연산자 이용]\n"
   ]
  },
  {
   "cell_type": "code",
   "execution_count": 33,
   "metadata": {},
   "outputs": [
    {
     "name": "stdout",
     "output_type": "stream",
     "text": [
      "list_ex1는 영어 테스트로 사용할 수 있습니다\n"
     ]
    }
   ],
   "source": [
    "list_ex1=[\"risk\", \"issue\", \"test\", \"maintenance\", \"maturity\"]\n",
    "list_ex2=[\"security\", \"design\", \"systematic\", \"safety\"]\n",
    "list_ex3=[\"maintenance\", \"verification\", \"validation\"]\n",
    "\n",
    "includeWord=\"maintenance\"\n",
    "wordCount=5\n",
    "\n",
    "if includeWord in list_ex1 and len(list_ex1)>=wordCount : \n",
    "    print(\"list_ex1는 영어 테스트로 사용할 수 있습니다\")\n",
    "if includeWord in list_ex2 and len(list_ex2)>=wordCount : \n",
    "    print(\"list_ex2는 영어 테스트로 사용할 수 있습니다\")\n",
    "if includeWord in list_ex3 and len(list_ex3)>=wordCount : \n",
    "    print(\"list_ex3는 영어 테스트로 사용할 수 있습니다\")\n",
    " \n"
   ]
  },
  {
   "cell_type": "markdown",
   "metadata": {},
   "source": [
    "# [단어 찾기 프로그램 : 인덱스 슬라이싱 이용]"
   ]
  },
  {
   "cell_type": "code",
   "execution_count": 1,
   "metadata": {},
   "outputs": [
    {
     "name": "stdout",
     "output_type": "stream",
     "text": [
      "['t', 'e', 'c', 'h', 'n', 'o', 'l', 'o', 'g', 'y']\n",
      "찾은 단어 : ['no', 'echo', 'ten']\n",
      "찾은 단어의 수: 3\n"
     ]
    }
   ],
   "source": [
    "word=\"technology\"\n",
    "find_word=list(word)\n",
    "word_list=list()\n",
    "print(find_word)\n",
    "\n",
    "\n",
    "word1=find_word[4:6]\n",
    "word1=\"\".join(word1) #문자 리스트를 문자열로 변환 : join()\n",
    "word_list.append(word1)\n",
    "word2=find_word[1:4]+find_word[5:6]\n",
    "word2=\"\".join(word2)\n",
    "word_list.append(word2)\n",
    "word3=find_word[:2]+find_word[4:5]\n",
    "word3=\"\".join(word3)\n",
    "word_list.append(word3)\n",
    "\n",
    "\n",
    "print(\"찾은 단어 :\",word_list)\n",
    "print(\"찾은 단어의 수:\",len(word_list))"
   ]
  },
  {
   "cell_type": "markdown",
   "metadata": {},
   "source": [
    "# [포춘 쿠키(fortune cookie) 프로그램] "
   ]
  },
  {
   "cell_type": "code",
   "execution_count": 3,
   "metadata": {},
   "outputs": [
    {
     "name": "stdout",
     "output_type": "stream",
     "text": [
      "#################\n",
      "#Today's Feeling#\n",
      "#################\n",
      "\n",
      "1\n",
      "2\n",
      "3\n",
      "\" fortunate \"\n"
     ]
    }
   ],
   "source": [
    "import random\n",
    "import time\n",
    "\n",
    "goodsay=['happy','love','sad','hot','fortunate']\n",
    "\n",
    "todayFeeling = random.choice(goodsay)\n",
    "time.sleep(1)\n",
    "print(\"#\"*17)\n",
    "print(\"#Today's Feeling#\")\n",
    "print(\"#\"*17)\n",
    "print(\"\")\n",
    "for i in range(1,4) :\n",
    "    print(i)\n",
    "    time.sleep(1)\n",
    "print(\"\\\"\",todayFeeling,\"\\\"\")\n"
   ]
  },
  {
   "cell_type": "markdown",
   "metadata": {},
   "source": [
    "# [참고] Tuple\n",
    "## - 읽기만 가능한 집합\n",
    "## - 순서가 있다. index 0부터 시작"
   ]
  },
  {
   "cell_type": "code",
   "execution_count": 11,
   "metadata": {},
   "outputs": [
    {
     "name": "stdout",
     "output_type": "stream",
     "text": [
      "1\n"
     ]
    },
    {
     "ename": "TypeError",
     "evalue": "'tuple' object does not support item assignment",
     "output_type": "error",
     "traceback": [
      "\u001b[1;31m---------------------------------------------------------------------------\u001b[0m",
      "\u001b[1;31mTypeError\u001b[0m                                 Traceback (most recent call last)",
      "\u001b[1;32m<ipython-input-11-b87f29fcdb78>\u001b[0m in \u001b[0;36m<module>\u001b[1;34m()\u001b[0m\n\u001b[0;32m      6\u001b[0m \u001b[0mtuple4\u001b[0m\u001b[1;33m=\u001b[0m\u001b[1;33m(\u001b[0m\u001b[1;36m1\u001b[0m\u001b[1;33m,\u001b[0m\u001b[1;36m2\u001b[0m\u001b[1;33m,\u001b[0m\u001b[0mmyfunc\u001b[0m\u001b[1;33m)\u001b[0m\u001b[1;33m\u001b[0m\u001b[0m\n\u001b[0;32m      7\u001b[0m \u001b[0mprint\u001b[0m\u001b[1;33m(\u001b[0m\u001b[0mtuple1\u001b[0m\u001b[1;33m[\u001b[0m\u001b[1;36m0\u001b[0m\u001b[1;33m]\u001b[0m\u001b[1;33m)\u001b[0m\u001b[1;33m\u001b[0m\u001b[0m\n\u001b[1;32m----> 8\u001b[1;33m \u001b[0mtuple1\u001b[0m\u001b[1;33m[\u001b[0m\u001b[1;36m0\u001b[0m\u001b[1;33m]\u001b[0m\u001b[1;33m=\u001b[0m\u001b[1;36m6\u001b[0m\u001b[1;33m\u001b[0m\u001b[0m\n\u001b[0m",
      "\u001b[1;31mTypeError\u001b[0m: 'tuple' object does not support item assignment"
     ]
    }
   ],
   "source": [
    "tuple1=(1,2,3,4,5)\n",
    "tuple2=('a','b','c')\n",
    "tuple3=(1,'a','abc',[1,2,3,4,5])\n",
    "def myfunc() :\n",
    "    print(\"안녕하세요?\")\n",
    "tuple4=(1,2,myfunc)\n",
    "print(tuple1[0])\n",
    "tuple1[0]=6"
   ]
  },
  {
   "cell_type": "markdown",
   "metadata": {},
   "source": [
    "# [참고2] Set : 집합\n",
    "## - 중복을 허용하지 않음\n",
    "## - 순서가 없다"
   ]
  },
  {
   "cell_type": "code",
   "execution_count": 16,
   "metadata": {},
   "outputs": [
    {
     "name": "stdout",
     "output_type": "stream",
     "text": [
      "{1, 2, 3}\n"
     ]
    }
   ],
   "source": [
    "set1={1,1,2,2,3} #중복된 값을 set에 넣을 경우\n",
    "print(set1) # 출력결과를 보면, 중복된 값은 포함되지 않음"
   ]
  },
  {
   "cell_type": "code",
   "execution_count": 15,
   "metadata": {},
   "outputs": [
    {
     "name": "stdout",
     "output_type": "stream",
     "text": [
      "{'h', 'l', 'e', 'o'}\n"
     ]
    },
    {
     "ename": "TypeError",
     "evalue": "'set' object does not support indexing",
     "output_type": "error",
     "traceback": [
      "\u001b[1;31m---------------------------------------------------------------------------\u001b[0m",
      "\u001b[1;31mTypeError\u001b[0m                                 Traceback (most recent call last)",
      "\u001b[1;32m<ipython-input-15-1571b4a73a42>\u001b[0m in \u001b[0;36m<module>\u001b[1;34m()\u001b[0m\n\u001b[0;32m      1\u001b[0m \u001b[0mset2\u001b[0m\u001b[1;33m=\u001b[0m\u001b[1;33m{\u001b[0m\u001b[1;34m'h'\u001b[0m\u001b[1;33m,\u001b[0m\u001b[1;34m'e'\u001b[0m\u001b[1;33m,\u001b[0m\u001b[1;34m'l'\u001b[0m\u001b[1;33m,\u001b[0m\u001b[1;34m'l'\u001b[0m\u001b[1;33m,\u001b[0m\u001b[1;34m'o'\u001b[0m\u001b[1;33m}\u001b[0m\u001b[1;33m\u001b[0m\u001b[0m\n\u001b[0;32m      2\u001b[0m \u001b[0mprint\u001b[0m\u001b[1;33m(\u001b[0m\u001b[0mset2\u001b[0m\u001b[1;33m)\u001b[0m\u001b[1;33m\u001b[0m\u001b[0m\n\u001b[1;32m----> 3\u001b[1;33m \u001b[0mprint\u001b[0m\u001b[1;33m(\u001b[0m\u001b[0mset1\u001b[0m\u001b[1;33m[\u001b[0m\u001b[1;36m2\u001b[0m\u001b[1;33m]\u001b[0m\u001b[1;33m)\u001b[0m\u001b[1;33m\u001b[0m\u001b[0m\n\u001b[0m",
      "\u001b[1;31mTypeError\u001b[0m: 'set' object does not support indexing"
     ]
    }
   ],
   "source": [
    "set2={'h','e','l','l','o'}\n",
    "print(set2)\n",
    "print(set1[2]) #인덱스를 사용하지 않으므로 Error"
   ]
  },
  {
   "cell_type": "code",
   "execution_count": 50,
   "metadata": {},
   "outputs": [
    {
     "name": "stdout",
     "output_type": "stream",
     "text": [
      "{5, 7, 9, 11, 15, 19, 23, 25, 27, 29, 33, 39, 41, 43, 45, 49, 51, 61, 65, 69, 71, 77, 81, 83, 85, 89, 91, 93, 95, 97, 99}\n",
      "[5, 7, 9, 11, 15, 19, 23, 25, 27, 29, 33, 39, 41, 43, 45, 49, 51, 61, 65, 69, 71, 77, 81, 83, 85, 89, 91, 93, 95, 97, 99]\n",
      "첫 번째 값 :  5\n",
      "다섯 번째 값 :  15\n"
     ]
    }
   ],
   "source": [
    "import random\n",
    "oddList=set([]) #set으로 선언\n",
    "while (len(oddList)<=30) :\n",
    "    rndNum=random.randrange(1,100,2)\n",
    "    oddList.add(rndNum) #set에 데이터 추가하기\n",
    "    \n",
    "print(oddList)\n",
    "oddList=list(oddList)\n",
    "print(oddList)\n",
    "print(\"첫 번째 값 : \", oddList[0])\n",
    "print(\"다섯 번째 값 : \", oddList[4])"
   ]
  },
  {
   "cell_type": "markdown",
   "metadata": {},
   "source": [
    "# 5. 딕셔너리\n",
    "## - 키와 값을 하나의 요소로 하는 순서가 없는 집합\n",
    "## - {key : value} 쌍으로 정의"
   ]
  },
  {
   "cell_type": "code",
   "execution_count": 78,
   "metadata": {},
   "outputs": [
    {
     "name": "stdout",
     "output_type": "stream",
     "text": [
      "{'학번': 1000, '이름': '홍길동', '학과': '컴퓨터학과'}\n"
     ]
    }
   ],
   "source": [
    "student={'학번':1000, '이름':'홍길동', '학과':'컴퓨터학과'} #{key1:value1 , key2:value2}\n",
    "print(student)"
   ]
  },
  {
   "cell_type": "markdown",
   "metadata": {},
   "source": [
    "## 5_1) 딕셔너리에 새로운 항목 추가 : key-value 쌍으로 추가"
   ]
  },
  {
   "cell_type": "code",
   "execution_count": 82,
   "metadata": {},
   "outputs": [
    {
     "name": "stdout",
     "output_type": "stream",
     "text": [
      "{'학번': 1000, '이름': '홍길동', '학과': '컴퓨터학과', '성별': '남자'}\n"
     ]
    }
   ],
   "source": [
    "student={'학번':1000, '이름':'홍길동', '학과':'컴퓨터학과'}\n",
    "student['성별']='남자' #딕셔너리에 새로운 항목 추가\n",
    "print(student)"
   ]
  },
  {
   "cell_type": "markdown",
   "metadata": {},
   "source": [
    "## 5_2) 딕셔너리에 항목 삭제하기 : 키(key) 를 통해 삭제 "
   ]
  },
  {
   "cell_type": "code",
   "execution_count": 83,
   "metadata": {},
   "outputs": [
    {
     "name": "stdout",
     "output_type": "stream",
     "text": [
      "{'학번': 1000, '이름': '홍길동', '학과': '컴퓨터학과', '성별': '남자'}\n",
      "{'학번': 1000, '이름': '홍길동', '학과': '컴퓨터학과'}\n"
     ]
    }
   ],
   "source": [
    "student={'학번':1000, '이름':'홍길동', '학과':'컴퓨터학과', '성별':'남자'}\n",
    "print(student)\n",
    "del student['성별'] #딕셔너리 항목 삭제\n",
    "print(student)"
   ]
  },
  {
   "cell_type": "markdown",
   "metadata": {},
   "source": [
    "## 5_3) 딕셔너리에서 키만 출력하기"
   ]
  },
  {
   "cell_type": "code",
   "execution_count": 1,
   "metadata": {},
   "outputs": [
    {
     "name": "stdout",
     "output_type": "stream",
     "text": [
      "{'학번': 'std1000', '이름': '홍길동', '학과': '컴퓨터학과'}\n",
      ">>>키 출력\n",
      "학번 이름 학과 "
     ]
    }
   ],
   "source": [
    "student={'학번':1000, '이름':'홍길동', '학과':'컴퓨터학과'}\n",
    "student['학번']='std1000'\n",
    "print(student)\n",
    "\n",
    "print(\">>>키 출력\")\n",
    "for key in student.keys() :\n",
    "    print(key,end=\" \")\n",
    "\n"
   ]
  },
  {
   "cell_type": "markdown",
   "metadata": {},
   "source": [
    "## 5_4) 딕셔너리에서 값만 출력하기"
   ]
  },
  {
   "cell_type": "code",
   "execution_count": 2,
   "metadata": {},
   "outputs": [
    {
     "name": "stdout",
     "output_type": "stream",
     "text": [
      "{'학번': 'std1000', '이름': '홍길동', '학과': '컴퓨터학과'}\n",
      ">>>값 출력\n",
      "std1000 홍길동 컴퓨터학과 "
     ]
    }
   ],
   "source": [
    "student={'학번':1000, '이름':'홍길동', '학과':'컴퓨터학과'}\n",
    "student['학번']='std1000'\n",
    "print(student)\n",
    "\n",
    "print(\">>>값 출력\")\n",
    "for value in student.values() :\n",
    "    print(value,end=\" \")"
   ]
  },
  {
   "cell_type": "markdown",
   "metadata": {},
   "source": [
    "## 5_5) 딕셔너리 키와 값을 출력하기 "
   ]
  },
  {
   "cell_type": "code",
   "execution_count": 17,
   "metadata": {},
   "outputs": [
    {
     "name": "stdout",
     "output_type": "stream",
     "text": [
      "{'학번': 'std1000', '이름': '홍길동', '학과': '컴퓨터학과'}\n",
      ">>>키 출력\n",
      "학번 이름 학과 \n",
      ">>>값 출력\n",
      "std1000 홍길동 컴퓨터학과 \n",
      ">>>키-값 출력\n",
      "dict_items([('학번', 'std1000'), ('이름', '홍길동'), ('학과', '컴퓨터학과')])\n",
      "학번 - std1000\n",
      "이름 - 홍길동\n",
      "학과 - 컴퓨터학과\n"
     ]
    }
   ],
   "source": [
    "student={'학번':1000, '이름':'홍길동', '학과':'컴퓨터학과'}\n",
    "student['학번']='std1000'\n",
    "print(student)\n",
    "print(\">>>키 출력\")\n",
    "for key in student.keys() :\n",
    "    print(key,end=\" \")\n",
    "\n",
    "print(\"\\n>>>값 출력\")\n",
    "for value in student.values() :\n",
    "    print(value,end=\" \")\n",
    "\n",
    "print(\"\\n>>>키-값 출력\")\n",
    "for key, value in student.items() : #items()은 키와 값 쌍이 튜플인 요소를 갖는 리스트를 반환\n",
    "    print(key,\"-\",value)            #키는 key변수에, 값은 value변수에 저장하여 출력 "
   ]
  },
  {
   "cell_type": "code",
   "execution_count": 19,
   "metadata": {},
   "outputs": [
    {
     "name": "stdout",
     "output_type": "stream",
     "text": [
      "{'a': [1, 2, 3]}\n"
     ]
    }
   ],
   "source": [
    "dic={}\n",
    "dic['a']=[1,2,3]\n",
    "print(dic)\n",
    "tmpList=[]"
   ]
  },
  {
   "cell_type": "markdown",
   "metadata": {},
   "source": [
    "# [문제] 커피숍 메뉴 딕셔너리로 작성하기 "
   ]
  },
  {
   "cell_type": "code",
   "execution_count": 4,
   "metadata": {},
   "outputs": [
    {
     "name": "stdout",
     "output_type": "stream",
     "text": [
      "메뉴 입력 :Americano\n",
      "입력하신 메뉴( Americano )은(는) 메뉴에 있습니다.\n",
      "가격은 2000 원 입니다\n"
     ]
    }
   ],
   "source": [
    "menu={\"Americano\":2000, \"Cafe latte\":2500,\"Green Tea latte\":3000, \"Mocha latte\" : 3500}\n",
    "\n",
    "user_input=input(\"메뉴 입력 :\")\n",
    "if user_input in menu.keys() :\n",
    "    print(\"입력하신 메뉴(\",user_input,\")은(는) 메뉴에 있습니다.\")\n",
    "    print(\"가격은\", menu[user_input],\"원 입니다\")\n",
    "else :\n",
    "    print(user_input,\"은 메뉴에 없습니다.\")"
   ]
  },
  {
   "cell_type": "markdown",
   "metadata": {},
   "source": [
    "# [문제] 우수제품 / 판매 중지 목록 관리 "
   ]
  },
  {
   "cell_type": "code",
   "execution_count": 21,
   "metadata": {},
   "outputs": [
    {
     "name": "stdout",
     "output_type": "stream",
     "text": [
      "<<우수 제품 목록>>\n",
      "칫솔 : 판매실적 :5 고객평가 4\n",
      "치약 : 판매실적 :4 고객평가 4\n",
      "<<판매 중지 목록>>\n",
      "비누\n",
      "샴푸\n"
     ]
    }
   ],
   "source": [
    "product=[\"비누\",\"칫솔\",\"샴푸\",\"치약\",\"로션\"]\n",
    "sales=[3,5,2,4,5]\n",
    "consumer=[2,4,1,4,3]\n",
    "goodProduct={}\n",
    "badProduct={}\n",
    "tmpList=[]\n",
    "for i in range(0,len(product)) :\n",
    "    tmpList.append(sales[i])\n",
    "    tmpList.append(consumer[i])\n",
    "    if sales[i]>=4 and consumer[i]>=4 :    \n",
    "        goodProduct[product[i]]=tmpList\n",
    "    elif sales[i] < 4 and consumer[i] < 4 :\n",
    "        badProduct[product[i]]=tmpList\n",
    "    else :\n",
    "        continue\n",
    "    tmpList=[]\n",
    "print(\"<<우수 제품 목록>>\")\n",
    "for key,value in goodProduct.items() :\n",
    "    print(\"%s : 판매실적 :%d 고객평가 %d\"%(key,value[0],value[1]))\n",
    "print(\"<<판매 중지 목록>>\")\n",
    "for key in badProduct.keys() :\n",
    "    print(\"%s\"%(key))\n"
   ]
  },
  {
   "cell_type": "markdown",
   "metadata": {},
   "source": [
    "# [문제] 나라 수도 맞추는 게임 "
   ]
  },
  {
   "cell_type": "code",
   "execution_count": 8,
   "metadata": {},
   "outputs": [
    {
     "name": "stdout",
     "output_type": "stream",
     "text": [
      "<<<나라의 수도 맞추는 게임>>>\n",
      "3초 후에 나타나는 나라의 수도를 맞추세요\n",
      "3\n",
      "2\n",
      "1\n",
      "독일\n",
      ">>>>기회는 7번\n",
      "++++1번째 시도\n",
      "수도 입력: 베를린\n",
      "정답입니다!!!\n",
      "1회에 맞추셨네요!\n",
      "최고의 실력자!!\n"
     ]
    }
   ],
   "source": [
    "import random\n",
    "from time import sleep\n",
    "content={\"한국\":\"서울\",\"스페인\":\"마드리드\",\"타이완\":\"타이베이\",\"미국\":\"워싱턴D.C\",\"브라질\":\"브라질리아\",\n",
    "        \"영국\":\"런던\",\"덴마크\":\"코펜하겐\",\"독일\":\"베를린\",\"스위스\":\"베른\",\"일본\":\"도쿄\"}\n",
    "content_contry=content.keys()\n",
    "#print(content_contry)\n",
    "rnd_contry=random.choice(list(content_contry))\n",
    "answer=content[rnd_contry]\n",
    "print(\"<<<나라의 수도 맞추는 게임>>>\")\n",
    "print(\"3초 후에 나타나는 나라의 수도를 맞추세요\")\n",
    "for i in range(1,4) :\n",
    "    print(4-i)\n",
    "    sleep(1)\n",
    "print(rnd_contry)\n",
    "trial=7 \n",
    "print(\">>>>기회는 %d번\"%trial)\n",
    "for i in range(1,trial+1):\n",
    "    print(\"++++%d번째 시도\"%i)\n",
    "    user_answer=input(\"수도 입력: \")\n",
    "    if(answer==user_answer) :\n",
    "        print(\"정답입니다!!!\")\n",
    "        print(\"%d회에 맞추셨네요!\"%i)\n",
    "        if(i==1) :\n",
    "            print(\"최고의 실력자!!\")\n",
    "        elif(2<=i<=4) :\n",
    "            print(\"실력이 좋네요!!\")\n",
    "        elif(5<=i<=6) :\n",
    "            print(\"조금 더 노력해야겠어요!\")\n",
    "        else :\n",
    "            print(\"노~오~력이 필요합니다.\")\n",
    "        break\n",
    "    else :\n",
    "        print(\"다시 생각해 보세요(기회는 %d번 남았습니다.)\"%(trial-i))\n",
    "else :    #for의 loop를 다 돌았을 때만 수행하는 문장\n",
    "    print(\"수도를 맞추지 못하셨네요..\")\n",
    "    print(\"%s의 수도는 %s입니다.\"%(rnd_contry,answer))"
   ]
  },
  {
   "cell_type": "markdown",
   "metadata": {},
   "source": [
    "# 3_1.시퀀스 자료형 -인덱싱"
   ]
  },
  {
   "cell_type": "code",
   "execution_count": 12,
   "metadata": {},
   "outputs": [
    {
     "name": "stdout",
     "output_type": "stream",
     "text": [
      "i\n",
      "1\n",
      "[1, 2, 3]\n",
      "3\n"
     ]
    }
   ],
   "source": [
    "strdata='Time is money!'\n",
    "listdata=[1,2,[1,2,3]]\n",
    "print(strdata[5])\n",
    "print(listdata[0])\n",
    "print(listdata[-1])\n",
    "print(listdata[2][-1])"
   ]
  },
  {
   "cell_type": "markdown",
   "metadata": {},
   "source": [
    "# 3_2. 시퀀스 자료형 - 슬라이싱"
   ]
  },
  {
   "cell_type": "code",
   "execution_count": 14,
   "metadata": {},
   "outputs": [
    {
     "name": "stdout",
     "output_type": "stream",
     "text": [
      "Time \n",
      "Time is\n",
      "money!\n",
      "Time is mon\n",
      "ey!\n",
      "Time is money!\n",
      "Tm smny\n"
     ]
    }
   ],
   "source": [
    "strdata='Time is money!'\n",
    "print(strdata[0:5])\n",
    "print(strdata[:7])\n",
    "print(strdata[8:])\n",
    "print(strdata[:-3])\n",
    "print(strdata[-3:])\n",
    "print(strdata[:])\n",
    "print(strdata[::2])"
   ]
  },
  {
   "cell_type": "markdown",
   "metadata": {},
   "source": [
    "# 3_3. 시퀀스 자료형 - 연결(+)하기 "
   ]
  },
  {
   "cell_type": "code",
   "execution_count": 18,
   "metadata": {},
   "outputs": [
    {
     "name": "stdout",
     "output_type": "stream",
     "text": [
      "I love Python \n",
      "Python 꿀잼 \n"
     ]
    }
   ],
   "source": [
    "strdata1='I love '\n",
    "strdata2='Python '\n",
    "strdata3='꿀잼 '\n",
    "print(strdata1+strdata2)\n",
    "print(strdata2+strdata3)"
   ]
  },
  {
   "cell_type": "code",
   "execution_count": 22,
   "metadata": {},
   "outputs": [
    {
     "name": "stdout",
     "output_type": "stream",
     "text": [
      "[4, 5, 6, 1, 2, 3]\n"
     ]
    }
   ],
   "source": [
    "listdata1=[1,2,3]\n",
    "listdata2=[4,5,6]\n",
    "listdata3=listdata2+listdata1\n",
    "print(listdata3)"
   ]
  },
  {
   "cell_type": "markdown",
   "metadata": {},
   "source": [
    "# 3_4. 시퀀스 자료형 - 반복(*) 하기 "
   ]
  },
  {
   "cell_type": "code",
   "execution_count": 5,
   "metadata": {},
   "outputs": [
    {
     "name": "stdout",
     "output_type": "stream",
     "text": [
      "GeeGeeGee babybabybaby\n",
      "[1, 2, 3, 1, 2, 3]\n"
     ]
    }
   ],
   "source": [
    "strdata1=\"Gee\"\n",
    "strdata2=\"baby\"\n",
    "print(strdata1*3, strdata2*3)\n",
    "lstdata1=[1,2,3]\n",
    "lstdata2=lstdata1*2\n",
    "print(lstdata2)\n"
   ]
  },
  {
   "cell_type": "markdown",
   "metadata": {},
   "source": [
    "# 3_5. 시퀀스 자료형 크기 - len( ) "
   ]
  },
  {
   "cell_type": "code",
   "execution_count": 6,
   "metadata": {},
   "outputs": [
    {
     "name": "stdout",
     "output_type": "stream",
     "text": [
      "len(strdata1) : 6\n",
      "len(strdata2):  2\n",
      "len(listdata):  4\n"
     ]
    }
   ],
   "source": [
    "strdata1=\"python\"\n",
    "strdata2=\"꿀잼\"\n",
    "listdata=['kyung','bock',strdata1, strdata2]\n",
    "print(\"len(strdata1) :\" , len(strdata1))\n",
    "print(\"len(strdata2): \",len(strdata2))\n",
    "print(\"len(listdata): \",len(listdata))"
   ]
  },
  {
   "cell_type": "markdown",
   "metadata": {},
   "source": [
    "# [참고] byte수를 알고싶다면? "
   ]
  },
  {
   "cell_type": "code",
   "execution_count": 8,
   "metadata": {},
   "outputs": [
    {
     "name": "stdout",
     "output_type": "stream",
     "text": [
      "len(strdata1) : 6\n",
      "len(strdata2):  6\n",
      "len(listdata):  4\n"
     ]
    }
   ],
   "source": [
    "strdata1=\"python\"\n",
    "strdata2=\"꿀잼\"\n",
    "print(\"len(strdata1) :\" , len(strdata1.encode('utf-8'))) #utf-8에서 영문 한글자는 1byte\n",
    "print(\"len(strdata2): \",len(strdata2.encode('utf-8'))) #utf-8에서 한글 한글자는 3byte\n"
   ]
  },
  {
   "cell_type": "markdown",
   "metadata": {},
   "source": [
    "# 3_6. 시퀀스 자료형의 멤버 확인하기 : in"
   ]
  },
  {
   "cell_type": "code",
   "execution_count": 9,
   "metadata": {},
   "outputs": [
    {
     "name": "stdout",
     "output_type": "stream",
     "text": [
      "'a'가 listdata에 있습니다.\n",
      "['a', 'b', 'c', 1, 2, 3]\n"
     ]
    }
   ],
   "source": [
    "listdata=['a','b','c',1,2,3]\n",
    "if 'a' in listdata :\n",
    "    print(\"\\'a\\'가 listdata에 있습니다.\")\n",
    "    print(listdata)\n",
    "else :\n",
    "    print(\"\\'a\\'가 listdata에 없습니다.\")"
   ]
  },
  {
   "cell_type": "code",
   "execution_count": 10,
   "metadata": {},
   "outputs": [
    {
     "name": "stdout",
     "output_type": "stream",
     "text": [
      "진행률100%"
     ]
    }
   ],
   "source": [
    "from time import sleep\n",
    "for i in range(100) :\n",
    "    msg='\\r진행률%d%%'%(i+1)\n",
    "    print(''*len(msg),end=\"\")\n",
    "    print(msg,end='')\n",
    "    sleep(0.1)"
   ]
  },
  {
   "cell_type": "markdown",
   "metadata": {},
   "source": [
    "# 4. [개인별 프로젝트 Sample] To do List "
   ]
  },
  {
   "cell_type": "code",
   "execution_count": 7,
   "metadata": {},
   "outputs": [
    {
     "name": "stdout",
     "output_type": "stream",
     "text": [
      "검색하려는 날짜를 입력하세요(MM/DD):11/22\n",
      "[ 11/22 해야 할 일]\n",
      "<<<수학 >>>\n",
      "없음\n",
      "<<<영어 >>>\n",
      "없음\n",
      "<<<컴퓨터 >>>\n",
      "파이썬 파일 사용하기\n"
     ]
    }
   ],
   "source": [
    "math={\"11/05\":\"미적분1 정리\", \"11/06\":\"미적분2 정리\", \"11/07\" : \"확률과 통계\"}\n",
    "eng={\"11/06\":\"영어 단어 50개 암기\",\"11/10\":\"회화 수행평가\"}\n",
    "com={\"11/22\":\"파이썬 파일 사용하기\",\"11/24\":\"데이터의 시각화\",\"11/29\":\"개인별 프로젝트 완성 및 발표\"}\n",
    "\n",
    "search=input(\"검색하려는 날짜를 입력하세요(MM/DD):\")\n",
    "print(\"[\",search, \"해야 할 일]\")\n",
    "\n",
    "print(\"<<<수학 >>>\")\n",
    "if search in math :\n",
    "    print(math[search])\n",
    "else :\n",
    "    print(\"없음\")\n",
    "\n",
    "print(\"<<<영어 >>>\")\n",
    "if search in eng :\n",
    "    print(eng[search])\n",
    "else :\n",
    "    print(\"없음\")\n",
    "\n",
    "print(\"<<<컴퓨터 >>>\")\n",
    "if search in com :\n",
    "    print(com[search])\n",
    "else :\n",
    "    print(\"없음\")\n",
    "    \n",
    "\n",
    "    \n",
    "    \n"
   ]
  }
 ],
 "metadata": {
  "kernelspec": {
   "display_name": "Python 3",
   "language": "python",
   "name": "python3"
  }
 },
 "nbformat": 4,
 "nbformat_minor": 2
}
