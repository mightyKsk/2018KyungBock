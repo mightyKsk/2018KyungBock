{
 "cells": [
  {
   "cell_type": "markdown",
   "metadata": {},
   "source": [
    "# 1. while : 특정 조건을 만족하는 동안 반복을 계속 수행"
   ]
  },
  {
   "cell_type": "code",
   "execution_count": null,
   "metadata": {},
   "outputs": [],
   "source": [
    "i=1\n",
    "while (i<=5):\n",
    "    print(\"안녕\"*i)\n",
    "    i+=1"
   ]
  },
  {
   "cell_type": "code",
   "execution_count": null,
   "metadata": {},
   "outputs": [],
   "source": [
    "reply=input('\\'y\\'또는\\'n\\'을 입력 : ')\n",
    "while(reply!='n') :\n",
    "    print(\"repeat...\")\n",
    "    reply=input('\\'y\\'또는\\'n\\'을 입력 : ')"
   ]
  },
  {
   "cell_type": "markdown",
   "metadata": {},
   "source": [
    "# [문제] 열번찍어 안넘어가는 나무는 없다"
   ]
  },
  {
   "cell_type": "code",
   "execution_count": null,
   "metadata": {},
   "outputs": [],
   "source": [
    "treeHit=0\n",
    "while(treeHit<10) :\n",
    "    treeHit=treeHit+1\n",
    "    print(\"나무를 %d번 찍었습니다\"%treeHit)\n",
    "    if(treeHit==10) :\n",
    "        print(\"나무가 넘어갑니다~~~\")\n",
    "    "
   ]
  },
  {
   "cell_type": "markdown",
   "metadata": {},
   "source": [
    "# [문제] yes인 동안 숫자 입력 받아 합계 구하기 "
   ]
  },
  {
   "cell_type": "code",
   "execution_count": null,
   "metadata": {},
   "outputs": [],
   "source": [
    "sum=0\n",
    "answer=\"yes\"\n",
    "while(answer!=\"no\"):\n",
    "    num=int(input(\"숫자를 입력하시오: \"))\n",
    "    sum=sum+num\n",
    "    answer=input(\"계속 입력하시겠습니까?(yes/no):\")\n",
    "print(\"합계는 %d\"%sum)"
   ]
  },
  {
   "cell_type": "markdown",
   "metadata": {},
   "source": [
    "# 2_for_in"
   ]
  },
  {
   "cell_type": "code",
   "execution_count": null,
   "metadata": {},
   "outputs": [],
   "source": [
    "str=\"KyungBoak\"\n",
    "for i in str :\n",
    "    print(i,end=\" \")"
   ]
  },
  {
   "cell_type": "markdown",
   "metadata": {},
   "source": [
    "## [참고] 시퀀스형"
   ]
  },
  {
   "cell_type": "code",
   "execution_count": null,
   "metadata": {},
   "outputs": [],
   "source": [
    "#문자열\n",
    "str='abcedf'\n",
    "for c in str :\n",
    "    print(c,end=\" \")"
   ]
  },
  {
   "cell_type": "code",
   "execution_count": null,
   "metadata": {},
   "outputs": [],
   "source": [
    "#리스트\n",
    "list=[1,2,3,4,5]\n",
    "for item in list :\n",
    "    print(item,end=\" \")"
   ]
  },
  {
   "cell_type": "code",
   "execution_count": null,
   "metadata": {},
   "outputs": [],
   "source": [
    "#튜플\n",
    "tuple=(1,2,3)\n",
    "for item in tuple :\n",
    "    print(item,end=\" \")"
   ]
  },
  {
   "cell_type": "code",
   "execution_count": null,
   "metadata": {},
   "outputs": [],
   "source": [
    "#딕셔너리\n",
    "ascii_codes={'a':97, 'b':98,'c':99}\n",
    "for c in ascii_codes.values() :\n",
    "    print(c,end=\" \")\n",
    "print()\n",
    "for c in ascii_codes.keys():\n",
    "    print(c,end=\" \")"
   ]
  },
  {
   "cell_type": "markdown",
   "metadata": {},
   "source": [
    "# 2_for_in_range "
   ]
  },
  {
   "cell_type": "code",
   "execution_count": null,
   "metadata": {},
   "outputs": [],
   "source": [
    "for i in range(10) :\n",
    "    print(i,end=\" \")"
   ]
  },
  {
   "cell_type": "code",
   "execution_count": null,
   "metadata": {},
   "outputs": [],
   "source": [
    "for i in range(2,10) :\n",
    "    print(i, end=\" \")"
   ]
  },
  {
   "cell_type": "code",
   "execution_count": null,
   "metadata": {},
   "outputs": [],
   "source": [
    "for i in range(1,11,2) :\n",
    "    print(i, end=\" \")"
   ]
  },
  {
   "cell_type": "markdown",
   "metadata": {},
   "source": [
    "# [문제]500~1000까지 홀수 출력하기 "
   ]
  },
  {
   "cell_type": "code",
   "execution_count": null,
   "metadata": {},
   "outputs": [],
   "source": [
    "for i in range(501,1001,2):\n",
    "    print(i, end=\" \")"
   ]
  },
  {
   "cell_type": "code",
   "execution_count": null,
   "metadata": {},
   "outputs": [],
   "source": [
    "for i in range(500,1001) :\n",
    "    if(i%2==1):\n",
    "        print(i, end=\" \")"
   ]
  },
  {
   "cell_type": "markdown",
   "metadata": {},
   "source": [
    "# [문제] 3의 배수만 출력하기"
   ]
  },
  {
   "cell_type": "code",
   "execution_count": null,
   "metadata": {},
   "outputs": [],
   "source": [
    "for i in range(13,40):\n",
    "    if(i%3==0) :\n",
    "        print(i, end=\" \")"
   ]
  },
  {
   "cell_type": "markdown",
   "metadata": {},
   "source": [
    "# [문제] 3의 배수 또는 5의 배수 출력하기 "
   ]
  },
  {
   "cell_type": "code",
   "execution_count": null,
   "metadata": {},
   "outputs": [],
   "source": [
    "for i in range(13,40):\n",
    "    if(i%3==0 or i%5==0):\n",
    "        print(i, end=\" \")"
   ]
  },
  {
   "cell_type": "markdown",
   "metadata": {},
   "source": [
    "# [문제] 5의 배수의 합 구하기 "
   ]
  },
  {
   "cell_type": "code",
   "execution_count": null,
   "metadata": {},
   "outputs": [],
   "source": [
    "sum=0\n",
    "for i in range(1, 21) :\n",
    "    if(i%5==0) :\n",
    "        sum=sum+i\n",
    "\n",
    "print(sum)"
   ]
  },
  {
   "cell_type": "markdown",
   "metadata": {},
   "source": [
    "# [문제]우리 반의 중간고사 평균 점수 구하기 "
   ]
  },
  {
   "cell_type": "code",
   "execution_count": null,
   "metadata": {},
   "outputs": [],
   "source": [
    "scores=[70, 60, 55, 75, 95, 90, 80, 80, 85, 100]\n",
    "sum=0\n",
    "total=len(scores)\n",
    "for score in scores :\n",
    "    sum=sum+score\n",
    "\n",
    "ave=sum/total\n",
    "print(\"%.2f\"%ave)"
   ]
  },
  {
   "cell_type": "markdown",
   "metadata": {},
   "source": [
    "# [문제] 2~100까지 짝수 출력하기 "
   ]
  },
  {
   "cell_type": "code",
   "execution_count": null,
   "metadata": {},
   "outputs": [],
   "source": [
    "for i in range(2,101,2) :\n",
    "    print(i,end=\" \")"
   ]
  },
  {
   "cell_type": "code",
   "execution_count": null,
   "metadata": {},
   "outputs": [],
   "source": [
    "for i in range(2,101):\n",
    "    if (i%2==0):\n",
    "        print(i, end=\" \")"
   ]
  },
  {
   "cell_type": "markdown",
   "metadata": {},
   "source": [
    "# [문제] 1부터 입력받은 숫자까지 출력하기"
   ]
  },
  {
   "cell_type": "code",
   "execution_count": null,
   "metadata": {},
   "outputs": [],
   "source": [
    "num=int(input(\"숫자 입력 : \"))\n",
    "for i in range(1,num+1) :\n",
    "    print(i, end=\" \")"
   ]
  },
  {
   "cell_type": "markdown",
   "metadata": {},
   "source": [
    "# [문제] 구구단 출력 "
   ]
  },
  {
   "cell_type": "code",
   "execution_count": null,
   "metadata": {},
   "outputs": [],
   "source": [
    "dan=int(input(\"단 입력:\"))\n",
    "for i in range(1,10) :\n",
    "    print(dan,\"*\",i,\"=\",(dan*i))"
   ]
  },
  {
   "cell_type": "markdown",
   "metadata": {},
   "source": [
    "# break , continue\n",
    "###  continue : 반복문 실행 도중 continue문을 만나면 반복문의 나머지 부분을 skip하고 조건절로 가서 계속 수행\n",
    "### break : 반복문 실행 도중 break문을 만나면 반복문을 완전히 빠져 나온다\n"
   ]
  },
  {
   "cell_type": "code",
   "execution_count": null,
   "metadata": {},
   "outputs": [],
   "source": [
    "scope=[1,2,3,4,5]\n",
    "for x in scope :\n",
    "    print(x)\n",
    "    if x<3 :\n",
    "        continue\n",
    "    else :\n",
    "        break"
   ]
  },
  {
   "cell_type": "code",
   "execution_count": null,
   "metadata": {},
   "outputs": [],
   "source": [
    "i = 0\n",
    "while True:                   # 무한 루프\n",
    "    i += 1                    # i를 1씩 증가시킴\n",
    "    print(i)\n",
    "    if i == 10:              # i가 10일 때\n",
    "        break "
   ]
  },
  {
   "cell_type": "code",
   "execution_count": null,
   "metadata": {},
   "outputs": [],
   "source": [
    "for i in range(1, 100):       # 0부터 99까지 반복\n",
    "    print(i)\n",
    "    if i == 10:              # i가 10일 때\n",
    "        break "
   ]
  },
  {
   "cell_type": "code",
   "execution_count": null,
   "metadata": {},
   "outputs": [],
   "source": [
    "for i in range(1, 11):     # 1부터 100까지 증가하면서 100번 반복\n",
    "    if i % 2 != 0:         # i를 2로 나누었을 때 나머지가 0이 아니면 홀수\n",
    "        continue           # 아래 코드를 실행하지 않고 건너뜀\n",
    "    print(i)"
   ]
  },
  {
   "cell_type": "code",
   "execution_count": null,
   "metadata": {},
   "outputs": [],
   "source": [
    "i = 1\n",
    "while i <= 10:       # i가 10보다 작거나 같을 때 반복. 1부터 100까지 증가하면서 100번 반복\n",
    "    i += 1            # i를 1씩 증가시킴\n",
    "    if i % 2 != 0:    # i를 2로 나누었을 때 나머지가 0이 아니면 홀수\n",
    "        continue      # 아래 코드를 실행하지 않고 건너뜀\n",
    "    print(i)"
   ]
  },
  {
   "cell_type": "markdown",
   "metadata": {},
   "source": [
    "# for~else "
   ]
  },
  {
   "cell_type": "code",
   "execution_count": null,
   "metadata": {},
   "outputs": [],
   "source": [
    "scope=[1,2,3,4,5]\n",
    "for x in scope :\n",
    "    print(x)\n",
    "    #if (x > 3) : break\n",
    "else :\n",
    "    print(\"Perfect!\") # for문을 완전히 수행해야함 실행된다."
   ]
  },
  {
   "cell_type": "code",
   "execution_count": null,
   "metadata": {},
   "outputs": [],
   "source": [
    "scope=[1,2,3,4,5]\n",
    "for x in scope :\n",
    "    print(x)\n",
    "    if (x > 3) : break\n",
    "else :\n",
    "    print(\"Perfect!\") # for문을 완전히 수행해야함 실행된다."
   ]
  },
  {
   "cell_type": "markdown",
   "metadata": {},
   "source": [
    "# 369프로그램 만들기 (샘플)"
   ]
  },
  {
   "cell_type": "code",
   "execution_count": null,
   "metadata": {},
   "outputs": [],
   "source": [
    "\n",
    "while True :\n",
    "        num=int(input(\"숫자입력 (0 : 종료) :\"))\n",
    "        if(num==0) : break\n",
    "        print(num)"
   ]
  },
  {
   "cell_type": "code",
   "execution_count": null,
   "metadata": {},
   "outputs": [],
   "source": [
    "\n",
    "while True :\n",
    "        num=int(input(\"숫자입력 (0 : 종료) :\"))\n",
    "        if(num==0) :\n",
    "            print(\"프로그램 종료...\")\n",
    "            break\n",
    "        if(num%9==0):\n",
    "            print(\"짝짝짝\")\n",
    "        elif(num%6==0) :\n",
    "            print(\"짝짝\")\n",
    "        elif(num%3==0) :\n",
    "            print(\"짝\")\n",
    "        else :\n",
    "            print(num)\n"
   ]
  },
  {
   "cell_type": "markdown",
   "metadata": {},
   "source": [
    "# 369프로그램 도중 궁금증! \n",
    "### 각 자리에 3,6,9 중 하나의 숫자가 들어있는지 확인하려면?\n",
    "### 각 자리수를 출력하는 프로그램"
   ]
  },
  {
   "cell_type": "code",
   "execution_count": null,
   "metadata": {},
   "outputs": [],
   "source": [
    "num=int(input(\"숫자 입력 : \"))\n",
    "while (num!=0) :\n",
    "    r=num%10\n",
    "    print(r)\n",
    "    num=num//10"
   ]
  },
  {
   "cell_type": "markdown",
   "metadata": {},
   "source": [
    "# 분식집 차림표 만들기(샘플)"
   ]
  },
  {
   "cell_type": "code",
   "execution_count": null,
   "metadata": {},
   "outputs": [],
   "source": [
    "print(\"1. 떡볶이 ..... 2,000원\")\n",
    "print(\"2. 김  밥 ..... 1,000원\")\n",
    "print(\"3. 오  뎅 ..... 1,500원\")\n",
    "print(\"4. 순  대 ..... 2,500원\")\n",
    "total=0\n",
    "dduk_price=2000\n",
    "kimbab_price=1000\n",
    "odeng_price=1500\n",
    "sundae_price=2500\n",
    "\n",
    "dduk_cnt=0\n",
    "kimbab_cnt=0\n",
    "odeng_cnt=0\n",
    "sundae_cnt=0\n",
    "\n",
    "while True :\n",
    "    choice=int(input(\"메뉴를 선택하세요(0은 종료) : \"))\n",
    "    if(choice==0) :\n",
    "        break\n",
    "    if(choice==1) :\n",
    "        dduk_cnt+=1\n",
    "#         total+=dduk_price\n",
    "    if(choice==2) :\n",
    "        kimbab_cnt+=1\n",
    "#         total+=kimbab_price\n",
    "    if(choice==3) :\n",
    "        odeng_cnt+=1\n",
    "#         total+=odeng_price\n",
    "    if(choice==4) :\n",
    "        sundae_cnt+=1\n",
    "#         total+=sundae_price\n",
    "total=dduk_price*dduk_cnt+kimbab_price*kimbab_cnt+odeng_price*odeng_cnt+sundae_price*sundae_cnt\n",
    "\n",
    "print(\"<<<주문한 내용>>>\")\n",
    "print(\"1. 떡볶이 ..... %d개\"%dduk_cnt)\n",
    "print(\"2. 김  밥 ..... %d개\"%kimbab_cnt)\n",
    "print(\"3. 오  뎅 ..... %d개\"%odeng_cnt)\n",
    "print(\"4. 순  대 ..... %d개\"%sundae_cnt)\n",
    "print(\"총 금액 :%d원\"%total)\n"
   ]
  },
  {
   "cell_type": "code",
   "execution_count": null,
   "metadata": {},
   "outputs": [],
   "source": []
  }
 ],
 "metadata": {
  "kernelspec": {
   "display_name": "Python 3",
   "language": "python",
   "name": "python3"
  },
  "language_info": {
   "codemirror_mode": {
    "name": "ipython",
    "version": 3
   },
   "file_extension": ".py",
   "mimetype": "text/x-python",
   "name": "python",
   "nbconvert_exporter": "python",
   "pygments_lexer": "ipython3",
   "version": "3.6.5"
  }
 },
 "nbformat": 4,
 "nbformat_minor": 2
}
