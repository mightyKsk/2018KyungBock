{
 "cells": [
  {
   "cell_type": "markdown",
   "metadata": {},
   "source": [
    "# 2. Python 사용해보기"
   ]
  },
  {
   "cell_type": "code",
   "execution_count": null,
   "metadata": {},
   "outputs": [],
   "source": [
    "\"Hello, Python\""
   ]
  },
  {
   "cell_type": "code",
   "execution_count": null,
   "metadata": {},
   "outputs": [],
   "source": [
    "1+2"
   ]
  },
  {
   "cell_type": "markdown",
   "metadata": {},
   "source": [
    "# 3_1. 연산자"
   ]
  },
  {
   "cell_type": "code",
   "execution_count": null,
   "metadata": {},
   "outputs": [],
   "source": [
    "13*2"
   ]
  },
  {
   "cell_type": "code",
   "execution_count": null,
   "metadata": {},
   "outputs": [],
   "source": [
    "13**2"
   ]
  },
  {
   "cell_type": "code",
   "execution_count": null,
   "metadata": {},
   "outputs": [],
   "source": [
    "13/2"
   ]
  },
  {
   "cell_type": "code",
   "execution_count": null,
   "metadata": {},
   "outputs": [],
   "source": [
    "13//2"
   ]
  },
  {
   "cell_type": "code",
   "execution_count": null,
   "metadata": {},
   "outputs": [],
   "source": [
    "13%2"
   ]
  },
  {
   "cell_type": "markdown",
   "metadata": {},
   "source": [
    "# 3_2. 변수 : 데이터를 메모리에 저장할 때 사용"
   ]
  },
  {
   "cell_type": "code",
   "execution_count": null,
   "metadata": {},
   "outputs": [],
   "source": [
    "x=3.14\n",
    "x"
   ]
  },
  {
   "cell_type": "code",
   "execution_count": null,
   "metadata": {},
   "outputs": [],
   "source": [
    "(3*x)+(2*x)"
   ]
  },
  {
   "cell_type": "code",
   "execution_count": null,
   "metadata": {},
   "outputs": [],
   "source": [
    "a=5\n",
    "a*2+3"
   ]
  },
  {
   "cell_type": "markdown",
   "metadata": {},
   "source": [
    "# 3_3.변수는 어디에 유용할까?"
   ]
  },
  {
   "cell_type": "code",
   "execution_count": null,
   "metadata": {},
   "outputs": [],
   "source": [
    "import turtle\n",
    "t=turtle.Turtle()\n",
    "t.shape(\"turtle\")\n",
    "\n",
    "t.circle(100)\n",
    "t.fd(30)\n",
    "t.circle(100)\n",
    "t.fd(30)\n",
    "t.circle(100)"
   ]
  },
  {
   "cell_type": "code",
   "execution_count": null,
   "metadata": {},
   "outputs": [],
   "source": [
    "import turtle\n",
    "t=turtle.Turtle()\n",
    "t.shape(\"turtle\")\n",
    "\n",
    "radius=100\n",
    "t.circle(radius)\n",
    "t.fd(30)\n",
    "t.circle(radius)\n",
    "t.fd(30)\n",
    "t.circle(radius)"
   ]
  },
  {
   "cell_type": "code",
   "execution_count": null,
   "metadata": {},
   "outputs": [],
   "source": [
    "import turtle\n",
    "t=turtle.Turtle()\n",
    "t.shape(\"turtle\")\n",
    "\n",
    "radius=100\n",
    "forward=50\n",
    "\n",
    "t.circle(radius)\n",
    "t.fd(forward)\n",
    "t.circle(radius)\n",
    "t.fd(forward)\n",
    "t.circle(radius)"
   ]
  },
  {
   "cell_type": "markdown",
   "metadata": {},
   "source": [
    "# 3_4 자료형(데이터 타입) : 데이터의 종류\n",
    "## 1) 자료형 반환 함수 : type( )\n",
    "### - 정수와 실수 : int, float\n",
    "### - 참(True) 또는 거짓(False) : bool(boolean)\n",
    "### - 문자형 : str(string)"
   ]
  },
  {
   "cell_type": "code",
   "execution_count": null,
   "metadata": {},
   "outputs": [],
   "source": [
    "type(7) #정수형"
   ]
  },
  {
   "cell_type": "code",
   "execution_count": null,
   "metadata": {},
   "outputs": [],
   "source": [
    "type(3.14) #실수형"
   ]
  },
  {
   "cell_type": "code",
   "execution_count": null,
   "metadata": {},
   "outputs": [],
   "source": [
    "type(True) #bool형"
   ]
  },
  {
   "cell_type": "code",
   "execution_count": null,
   "metadata": {},
   "outputs": [],
   "source": [
    "type('Hello,Kyungbock')"
   ]
  },
  {
   "cell_type": "markdown",
   "metadata": {},
   "source": [
    "# 4_1.출력 \n",
    "## 출력함수 : print()"
   ]
  },
  {
   "cell_type": "code",
   "execution_count": null,
   "metadata": {},
   "outputs": [],
   "source": [
    "print('Hello,Kyungbock') #()안의 데이터 출력 한다  "
   ]
  },
  {
   "cell_type": "code",
   "execution_count": null,
   "metadata": {},
   "outputs": [],
   "source": [
    "print('Hello,Kyungbock') #출력 후 줄바꿈을 한다 \n",
    "print('Hello,Kyungbock')"
   ]
  },
  {
   "cell_type": "code",
   "execution_count": null,
   "metadata": {},
   "outputs": [],
   "source": [
    "print(1,'Dong Ri') #1과 'Dong Ri'를 한 칸 띄워서 출력한다 \n",
    "print(2,'Sun Kyung')"
   ]
  },
  {
   "cell_type": "code",
   "execution_count": null,
   "metadata": {},
   "outputs": [],
   "source": [
    "print('Kyung'+'Bock'+'High'+'School')#문자를 연결해서 출력한다 "
   ]
  },
  {
   "cell_type": "code",
   "execution_count": null,
   "metadata": {},
   "outputs": [],
   "source": [
    "#출력함수의 end값의 기본은 줄바꿈(end='\\n')이다.\n",
    "print('a',end='') #문자열 출력 후 줄바꿈 하지 않음\n",
    "print('b',end='.') #문자열 출력 후 '.'\n",
    "print('c')\n",
    "print('d')"
   ]
  },
  {
   "cell_type": "code",
   "execution_count": null,
   "metadata": {},
   "outputs": [],
   "source": [
    "#출력함수의 sep값의 기본은 공백(sep=' ')이다.\n",
    "print('a','b','c') "
   ]
  },
  {
   "cell_type": "code",
   "execution_count": null,
   "metadata": {},
   "outputs": [],
   "source": [
    "print('a','b','c',sep=':') #각 문자의 구분값을 : 으로 변경"
   ]
  },
  {
   "cell_type": "markdown",
   "metadata": {},
   "source": [
    "# 4_2. 서식이 있는 출력 "
   ]
  },
  {
   "cell_type": "code",
   "execution_count": null,
   "metadata": {},
   "outputs": [],
   "source": [
    "print(\"%d\"%100)"
   ]
  },
  {
   "cell_type": "code",
   "execution_count": null,
   "metadata": {},
   "outputs": [],
   "source": [
    "print(\"%f\"%3.14)"
   ]
  },
  {
   "cell_type": "code",
   "execution_count": null,
   "metadata": {},
   "outputs": [],
   "source": [
    "print(\"%10.2f\"%3.14)"
   ]
  },
  {
   "cell_type": "code",
   "execution_count": null,
   "metadata": {},
   "outputs": [],
   "source": [
    "print(\"%s\"%'Hello')"
   ]
  },
  {
   "cell_type": "markdown",
   "metadata": {},
   "source": [
    "# 4_2 입력 "
   ]
  },
  {
   "cell_type": "code",
   "execution_count": null,
   "metadata": {},
   "outputs": [],
   "source": [
    "a=input() #입력된 데이터자 문자(str)로 저장된다 \n",
    "print(a)"
   ]
  },
  {
   "cell_type": "code",
   "execution_count": null,
   "metadata": {},
   "outputs": [],
   "source": [
    "a=input('좋아하는 과목을 입력하세요 : ')#사용자가 무엇을 입력해야 하는지 메시지를 보여준다 \n",
    "print(a)"
   ]
  },
  {
   "cell_type": "code",
   "execution_count": null,
   "metadata": {
    "scrolled": true
   },
   "outputs": [],
   "source": [
    "a=input('좋아하는 숫자를 입력하세요 :')\n",
    "b=input('좋아하는 숫자를 입력하세요 :')\n",
    "print(a+b)"
   ]
  },
  {
   "cell_type": "code",
   "execution_count": null,
   "metadata": {
    "scrolled": true
   },
   "outputs": [],
   "source": [
    "#input함수는 언제나 문자(str)로 처리한다. 숫자로 사용하고자 할 때는 숫자로 변환한다.\n",
    "a=int(input('좋아하는 숫자를 입력하세요 :'))\n",
    "b=int(input('좋아하는 숫자를 입력하세요 :'))\n",
    "print(a+b)"
   ]
  },
  {
   "cell_type": "code",
   "execution_count": null,
   "metadata": {},
   "outputs": [],
   "source": [
    "a=input('좋아하는 숫자를 입력하세요 :')\n",
    "b=input('좋아하는 숫자를 입력하세요 :')\n",
    "print(int(a)+int(b))"
   ]
  },
  {
   "cell_type": "code",
   "execution_count": null,
   "metadata": {},
   "outputs": [],
   "source": [
    "#input().split()을 통해 여러 데이터를 입력받을 수 있다.\n",
    "a,b=input('좋아하는 숫자를 입력하세요.(예: 4 2) :').split()\n",
    "print(int(a)+int(b))"
   ]
  },
  {
   "cell_type": "code",
   "execution_count": null,
   "metadata": {},
   "outputs": [],
   "source": [
    "#input함수의 요소를 int로 처리하고 그 결과를 돌려준다.\n",
    "a,b=map(int, input('좋아하는 숫자를 입력하세요.(예: 4 2) :').split())\n",
    "print(a+b)"
   ]
  },
  {
   "cell_type": "markdown",
   "metadata": {},
   "source": [
    "# [문제] cm를 입력받아 inch로 출력하기"
   ]
  },
  {
   "cell_type": "code",
   "execution_count": null,
   "metadata": {},
   "outputs": [],
   "source": [
    "print(\"[cm를 inch로 변환하는 프로그램]\")\n",
    "cm=float(input(\"cm를 입력 : \"))\n",
    "inch=cm/2.54\n",
    "print(\"입력하신\",cm,\"는\",inch,\"입니다.\")"
   ]
  },
  {
   "cell_type": "code",
   "execution_count": null,
   "metadata": {},
   "outputs": [],
   "source": [
    "print(\"[cm를 inch로 변환하는 프로그램]\")\n",
    "cm=float(input(\"cm를 입력 : \"))\n",
    "inch=cm/2.54\n",
    "print(\"입력하신\",cm,\"는%.2f입니다.\"%inch)"
   ]
  },
  {
   "cell_type": "markdown",
   "metadata": {},
   "source": [
    "# [문제] KyungBock Cafe 매출 계산하기"
   ]
  },
  {
   "cell_type": "code",
   "execution_count": null,
   "metadata": {},
   "outputs": [],
   "source": [
    "americano_price = 2000\n",
    "cafelatte_price = 3000\n",
    "capucino_price = 3500\n",
    "\n",
    "americanos = int(input(\"아메리카노 판매 개수: \"))\n",
    "cafelattes = int(input(\"카페라떼 판매 개수: \"))\n",
    "capucinos = int(input(\"카푸치노 판매 개수: \"))\n",
    "\n",
    "sales = americanos*americano_price\n",
    "sales = sales + cafelattes*cafelatte_price\n",
    "sales = sales + capucinos*capucino_price\n",
    "print(\"총 매출은\", sales, \"입니다.\")\n"
   ]
  },
  {
   "cell_type": "markdown",
   "metadata": {},
   "source": [
    "# [문제] 화씨온도-섭씨온도로 변환해 주는 프로그램"
   ]
  },
  {
   "cell_type": "code",
   "execution_count": null,
   "metadata": {},
   "outputs": [],
   "source": [
    "ftemp = float(input(\"화씨온도: \"))\n",
    "ctemp = (ftemp-32.0)*5.0/9.0\n",
    "print(\"섭씨온도:\", ctemp)"
   ]
  },
  {
   "cell_type": "markdown",
   "metadata": {},
   "source": [
    "# [문제] 동전교환 프로그램 "
   ]
  },
  {
   "cell_type": "code",
   "execution_count": null,
   "metadata": {},
   "outputs": [],
   "source": [
    "money=int(input(\"교환을 원하는 금액 입력 :\"))\n",
    "c500=money//500\n",
    "money=money%500\n",
    "c100=money//100\n",
    "money=money%100\n",
    "c50=money//50\n",
    "money=money%50\n",
    "c10=money//10\n",
    "money=money%10\n",
    "\n",
    "print(\"500원 : %d개\"%c500)\n",
    "print(\"100원 : %d개\"%c100)\n",
    "print(\"50원 : %d개\"%c50)\n",
    "print(\"10원 : %d개\"%c10)\n",
    "print(\"동전으로 교환되지 못한 금액 : %d\"%money)"
   ]
  },
  {
   "cell_type": "code",
   "execution_count": null,
   "metadata": {},
   "outputs": [],
   "source": []
  }
 ],
 "metadata": {
  "kernelspec": {
   "display_name": "Python 3",
   "language": "python",
   "name": "python3"
  },
  "language_info": {
   "codemirror_mode": {
    "name": "ipython",
    "version": 3
   },
   "file_extension": ".py",
   "mimetype": "text/x-python",
   "name": "python",
   "nbconvert_exporter": "python",
   "pygments_lexer": "ipython3",
   "version": "3.6.5"
  }
 },
 "nbformat": 4,
 "nbformat_minor": 2
}
